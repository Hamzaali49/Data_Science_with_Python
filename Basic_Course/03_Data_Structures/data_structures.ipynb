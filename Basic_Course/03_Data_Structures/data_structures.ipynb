{
 "cells": [
  {
   "cell_type": "markdown",
   "id": "4a07a75f",
   "metadata": {},
   "source": [
    "## Basic data structures in Python\n",
    "For extensive study and practice: [Visit the website](https://www.w3schools.com/python/default.asp)"
   ]
  },
  {
   "cell_type": "markdown",
   "id": "354de30c",
   "metadata": {},
   "source": [
    "**1- Tuple**\n"
   ]
  },
  {
   "cell_type": "markdown",
   "id": "761b687b",
   "metadata": {},
   "source": [
    "**2- List**"
   ]
  },
  {
   "cell_type": "markdown",
   "id": "b3e0e0f6",
   "metadata": {},
   "source": [
    "**3- Dictionaries**"
   ]
  },
  {
   "cell_type": "markdown",
   "id": "68691b51",
   "metadata": {},
   "source": [
    "**4- Set**"
   ]
  },
  {
   "cell_type": "markdown",
   "id": "dad251d9",
   "metadata": {},
   "source": [
    "## 1-Tuple\n",
    "- 0rder collection of elements\n",
    "- Enclosed in bracket () round braces or parenthesis\n",
    "- Different kind of elements can be stored \n",
    "- 0nce elements are stored we cannot change them (unmutateable)"
   ]
  },
  {
   "cell_type": "code",
   "execution_count": 1,
   "id": "71bb2128",
   "metadata": {},
   "outputs": [
    {
     "data": {
      "text/plain": [
       "(1, 'python', True, 10.2)"
      ]
     },
     "execution_count": 1,
     "metadata": {},
     "output_type": "execute_result"
    }
   ],
   "source": [
    "tup1= (1, \"python\", True, 10.2) #different kind of elements are present, i.e., integer, string, boolean operators and float.\n",
    "tup1"
   ]
  },
  {
   "cell_type": "code",
   "execution_count": 2,
   "id": "9716fe5e",
   "metadata": {},
   "outputs": [
    {
     "data": {
      "text/plain": [
       "tuple"
      ]
     },
     "execution_count": 2,
     "metadata": {},
     "output_type": "execute_result"
    }
   ],
   "source": [
    "#type of a tuple\n",
    "type(tup1)"
   ]
  },
  {
   "cell_type": "markdown",
   "id": "0dcda684",
   "metadata": {},
   "source": [
    "### -indexing in Tuple"
   ]
  },
  {
   "cell_type": "code",
   "execution_count": 3,
   "id": "eef54035",
   "metadata": {},
   "outputs": [
    {
     "data": {
      "text/plain": [
       "'python'"
      ]
     },
     "execution_count": 3,
     "metadata": {},
     "output_type": "execute_result"
    }
   ],
   "source": [
    "tup1[1]"
   ]
  },
  {
   "cell_type": "code",
   "execution_count": 4,
   "id": "384a0a89",
   "metadata": {},
   "outputs": [
    {
     "data": {
      "text/plain": [
       "1"
      ]
     },
     "execution_count": 4,
     "metadata": {},
     "output_type": "execute_result"
    }
   ],
   "source": [
    "tup1[0]"
   ]
  },
  {
   "cell_type": "code",
   "execution_count": 5,
   "id": "0301d40d",
   "metadata": {},
   "outputs": [
    {
     "data": {
      "text/plain": [
       "True"
      ]
     },
     "execution_count": 5,
     "metadata": {},
     "output_type": "execute_result"
    }
   ],
   "source": [
    "tup1[2]"
   ]
  },
  {
   "cell_type": "code",
   "execution_count": 6,
   "id": "a74527a5",
   "metadata": {
    "scrolled": true
   },
   "outputs": [
    {
     "data": {
      "text/plain": [
       "10.2"
      ]
     },
     "execution_count": 6,
     "metadata": {},
     "output_type": "execute_result"
    }
   ],
   "source": [
    "tup1[3]"
   ]
  },
  {
   "cell_type": "code",
   "execution_count": 7,
   "id": "ebd2bae1",
   "metadata": {},
   "outputs": [
    {
     "data": {
      "text/plain": [
       "(1, 'python')"
      ]
     },
     "execution_count": 7,
     "metadata": {},
     "output_type": "execute_result"
    }
   ],
   "source": [
    "tup1[0:2]"
   ]
  },
  {
   "cell_type": "code",
   "execution_count": 8,
   "id": "2b048339",
   "metadata": {},
   "outputs": [
    {
     "data": {
      "text/plain": [
       "(1, 'python', True, 10.2)"
      ]
     },
     "execution_count": 8,
     "metadata": {},
     "output_type": "execute_result"
    }
   ],
   "source": [
    "tup1[0:5]"
   ]
  },
  {
   "cell_type": "code",
   "execution_count": 9,
   "id": "bf9a1e08",
   "metadata": {},
   "outputs": [
    {
     "data": {
      "text/plain": [
       "True"
      ]
     },
     "execution_count": 9,
     "metadata": {},
     "output_type": "execute_result"
    }
   ],
   "source": [
    "tup1[-2]"
   ]
  },
  {
   "cell_type": "code",
   "execution_count": 10,
   "id": "a560fdae",
   "metadata": {},
   "outputs": [
    {
     "data": {
      "text/plain": [
       "4"
      ]
     },
     "execution_count": 10,
     "metadata": {},
     "output_type": "execute_result"
    }
   ],
   "source": [
    "#count of elements in tuple\n",
    "len(tup1)"
   ]
  },
  {
   "cell_type": "code",
   "execution_count": 11,
   "id": "87268b87",
   "metadata": {},
   "outputs": [
    {
     "data": {
      "text/plain": [
       "(2, 'Baba', False, 3.6)"
      ]
     },
     "execution_count": 11,
     "metadata": {},
     "output_type": "execute_result"
    }
   ],
   "source": [
    "tup2= (2, \"Baba\", False, 3.6)\n",
    "tup2"
   ]
  },
  {
   "cell_type": "code",
   "execution_count": 12,
   "id": "3ba90632",
   "metadata": {},
   "outputs": [
    {
     "data": {
      "text/plain": [
       "(1, 'python', True, 10.2, 2, 'Baba', False, 3.6)"
      ]
     },
     "execution_count": 12,
     "metadata": {},
     "output_type": "execute_result"
    }
   ],
   "source": [
    "#concatenate (addition of two or more than two tuples)\n",
    "tup1+tup2"
   ]
  },
  {
   "cell_type": "code",
   "execution_count": 13,
   "id": "8d609606",
   "metadata": {},
   "outputs": [
    {
     "data": {
      "text/plain": [
       "(1, 'python', True, 10.2, 1, 'python', True, 10.2, 2, 'Baba', False, 3.6)"
      ]
     },
     "execution_count": 13,
     "metadata": {},
     "output_type": "execute_result"
    }
   ],
   "source": [
    "#concatenate + repeat\n",
    "tup1*2 + tup2"
   ]
  },
  {
   "cell_type": "code",
   "execution_count": 14,
   "id": "871760ba",
   "metadata": {},
   "outputs": [
    {
     "data": {
      "text/plain": [
       "(34, 56, 67, 89, 90, 87, 46)"
      ]
     },
     "execution_count": 14,
     "metadata": {},
     "output_type": "execute_result"
    }
   ],
   "source": [
    "tup3=(34,56,67,89,90,87,46)\n",
    "tup3"
   ]
  },
  {
   "cell_type": "code",
   "execution_count": 15,
   "id": "a81364e8",
   "metadata": {},
   "outputs": [
    {
     "data": {
      "text/plain": [
       "34"
      ]
     },
     "execution_count": 15,
     "metadata": {},
     "output_type": "execute_result"
    }
   ],
   "source": [
    "#minimum value \n",
    "min(tup3)"
   ]
  },
  {
   "cell_type": "code",
   "execution_count": 16,
   "id": "9796296d",
   "metadata": {
    "scrolled": true
   },
   "outputs": [
    {
     "data": {
      "text/plain": [
       "90"
      ]
     },
     "execution_count": 16,
     "metadata": {},
     "output_type": "execute_result"
    }
   ],
   "source": [
    "#maximum value\n",
    "max(tup3)"
   ]
  },
  {
   "cell_type": "code",
   "execution_count": 17,
   "id": "98c78e95",
   "metadata": {},
   "outputs": [
    {
     "data": {
      "text/plain": [
       "1"
      ]
     },
     "execution_count": 17,
     "metadata": {},
     "output_type": "execute_result"
    }
   ],
   "source": [
    "#tuple.count function\n",
    "tup3.count(67)"
   ]
  },
  {
   "cell_type": "code",
   "execution_count": 18,
   "id": "8414f8a3",
   "metadata": {
    "scrolled": true
   },
   "outputs": [
    {
     "data": {
      "text/plain": [
       "5"
      ]
     },
     "execution_count": 18,
     "metadata": {},
     "output_type": "execute_result"
    }
   ],
   "source": [
    "#tuple.index function\n",
    "tup3.index(87)"
   ]
  },
  {
   "cell_type": "markdown",
   "id": "fe9eb7c8",
   "metadata": {},
   "source": [
    "---"
   ]
  },
  {
   "cell_type": "markdown",
   "id": "ccc20fc4",
   "metadata": {},
   "source": [
    "## 2- List\n",
    "- Ordered collection of elements\n",
    "- Enclosed in square [ ] braces/brackets\n",
    "- Mutateable, we can change the value "
   ]
  },
  {
   "cell_type": "code",
   "execution_count": 19,
   "id": "8e759153",
   "metadata": {},
   "outputs": [
    {
     "data": {
      "text/plain": [
       "[23, 'Hamza', 2.4, True]"
      ]
     },
     "execution_count": 19,
     "metadata": {},
     "output_type": "execute_result"
    }
   ],
   "source": [
    "list1= [23, \"Hamza\", 2.4, True]\n",
    "list1"
   ]
  },
  {
   "cell_type": "code",
   "execution_count": 20,
   "id": "54916061",
   "metadata": {},
   "outputs": [
    {
     "data": {
      "text/plain": [
       "4"
      ]
     },
     "execution_count": 20,
     "metadata": {},
     "output_type": "execute_result"
    }
   ],
   "source": [
    "len(list1)"
   ]
  },
  {
   "cell_type": "code",
   "execution_count": 21,
   "id": "bdb01db8",
   "metadata": {},
   "outputs": [
    {
     "data": {
      "text/plain": [
       "list"
      ]
     },
     "execution_count": 21,
     "metadata": {},
     "output_type": "execute_result"
    }
   ],
   "source": [
    "type(list1)"
   ]
  },
  {
   "cell_type": "code",
   "execution_count": 22,
   "id": "7a9cec3f",
   "metadata": {},
   "outputs": [
    {
     "data": {
      "text/plain": [
       "2.4"
      ]
     },
     "execution_count": 22,
     "metadata": {},
     "output_type": "execute_result"
    }
   ],
   "source": [
    "list1[2]"
   ]
  },
  {
   "cell_type": "code",
   "execution_count": 23,
   "id": "76f8af88",
   "metadata": {},
   "outputs": [
    {
     "data": {
      "text/plain": [
       "True"
      ]
     },
     "execution_count": 23,
     "metadata": {},
     "output_type": "execute_result"
    }
   ],
   "source": [
    "list1[3]"
   ]
  },
  {
   "cell_type": "code",
   "execution_count": 24,
   "id": "21e5c6fc",
   "metadata": {},
   "outputs": [
    {
     "data": {
      "text/plain": [
       "[3, 5, 'Aammar', 'Codanics', 478, 53.2, False]"
      ]
     },
     "execution_count": 24,
     "metadata": {},
     "output_type": "execute_result"
    }
   ],
   "source": [
    "list2=[3, 5, \"Aammar\", \"Codanics\", 478, 53.2, False]\n",
    "list2"
   ]
  },
  {
   "cell_type": "code",
   "execution_count": 25,
   "id": "e6456b75",
   "metadata": {},
   "outputs": [
    {
     "data": {
      "text/plain": [
       "[23, 'Hamza', 2.4, True, 3, 5, 'Aammar', 'Codanics', 478, 53.2, False]"
      ]
     },
     "execution_count": 25,
     "metadata": {},
     "output_type": "execute_result"
    }
   ],
   "source": [
    "#concatenate\n",
    "list1+list2"
   ]
  },
  {
   "cell_type": "code",
   "execution_count": 26,
   "id": "21c06364",
   "metadata": {},
   "outputs": [
    {
     "data": {
      "text/plain": [
       "[23,\n",
       " 'Hamza',\n",
       " 2.4,\n",
       " True,\n",
       " 23,\n",
       " 'Hamza',\n",
       " 2.4,\n",
       " True,\n",
       " 3,\n",
       " 5,\n",
       " 'Aammar',\n",
       " 'Codanics',\n",
       " 478,\n",
       " 53.2,\n",
       " False]"
      ]
     },
     "execution_count": 26,
     "metadata": {},
     "output_type": "execute_result"
    }
   ],
   "source": [
    "#concatenate + repeat\n",
    "list1*2+list2"
   ]
  },
  {
   "cell_type": "code",
   "execution_count": 27,
   "id": "a31b2ce2",
   "metadata": {},
   "outputs": [
    {
     "data": {
      "text/plain": [
       "[True, 2.4, 'Hamza', 23]"
      ]
     },
     "execution_count": 27,
     "metadata": {},
     "output_type": "execute_result"
    }
   ],
   "source": [
    "#reverse the list\n",
    "list1.reverse()\n",
    "list1"
   ]
  },
  {
   "cell_type": "code",
   "execution_count": 28,
   "id": "79c42fac",
   "metadata": {},
   "outputs": [
    {
     "data": {
      "text/plain": [
       "[True, 2.4, 'Hamza', 23, 'We are learning python with Aammar']"
      ]
     },
     "execution_count": 28,
     "metadata": {},
     "output_type": "execute_result"
    }
   ],
   "source": [
    "#let's add something to the list\n",
    "list1.append(\"We are learning python with Aammar\")\n",
    "list1"
   ]
  },
  {
   "cell_type": "code",
   "execution_count": 29,
   "id": "c263082d",
   "metadata": {},
   "outputs": [
    {
     "data": {
      "text/plain": [
       "1"
      ]
     },
     "execution_count": 29,
     "metadata": {},
     "output_type": "execute_result"
    }
   ],
   "source": [
    "#list count function is used to count how many times an element is present in the list.\n",
    "list1.count(\"We are learning python with Aammar\")"
   ]
  },
  {
   "cell_type": "code",
   "execution_count": 30,
   "id": "6fe09c5f",
   "metadata": {},
   "outputs": [],
   "source": [
    "#list clear function is used to clear all the elements in the list. \n",
    "list1.clear()"
   ]
  },
  {
   "cell_type": "code",
   "execution_count": 31,
   "id": "bd4fd53f",
   "metadata": {
    "scrolled": true
   },
   "outputs": [
    {
     "data": {
      "text/plain": [
       "[]"
      ]
     },
     "execution_count": 31,
     "metadata": {},
     "output_type": "execute_result"
    }
   ],
   "source": [
    "list1 # as we used list.clear function above, the list1 is empty now. "
   ]
  },
  {
   "cell_type": "code",
   "execution_count": 32,
   "id": "5b21ecba",
   "metadata": {},
   "outputs": [
    {
     "data": {
      "text/plain": [
       "[3, 5, 'Aammar', 'Codanics', 478, 53.2, False, 'mango', 'apple', 'jaman']"
      ]
     },
     "execution_count": 32,
     "metadata": {},
     "output_type": "execute_result"
    }
   ],
   "source": [
    "#list.extend function is used to add elements at the end of the list.\n",
    "fruits=\"mango\", \"apple\", \"jaman\"\n",
    "list2.extend(fruits)\n",
    "list2"
   ]
  },
  {
   "cell_type": "code",
   "execution_count": 33,
   "id": "ab6337d1",
   "metadata": {},
   "outputs": [
    {
     "data": {
      "text/plain": [
       "4"
      ]
     },
     "execution_count": 33,
     "metadata": {},
     "output_type": "execute_result"
    }
   ],
   "source": [
    "#list.index function is used to find the index of a specific element, i.e, 478 is present at 4th place.\n",
    "list2.index(478)"
   ]
  },
  {
   "cell_type": "code",
   "execution_count": 34,
   "id": "3eca7281",
   "metadata": {},
   "outputs": [
    {
     "data": {
      "text/plain": [
       "[3,\n",
       " 5,\n",
       " 'Aammar',\n",
       " 'Codanics',\n",
       " 478,\n",
       " 'Air cooler',\n",
       " 53.2,\n",
       " False,\n",
       " 'mango',\n",
       " 'apple',\n",
       " 'jaman']"
      ]
     },
     "execution_count": 34,
     "metadata": {},
     "output_type": "execute_result"
    }
   ],
   "source": [
    "#list.insert function is used to add elements at a specific place.\n",
    "list2.insert(5, \"Air cooler\")\n",
    "list2"
   ]
  },
  {
   "cell_type": "code",
   "execution_count": 35,
   "id": "07d7cb33",
   "metadata": {},
   "outputs": [],
   "source": [
    "#list.remove function is used to remove the first occurrence of the element with the specified value.\n",
    "list2.remove(\"Codanics\") #Codanics has been removed"
   ]
  },
  {
   "cell_type": "code",
   "execution_count": 36,
   "id": "53e0b298",
   "metadata": {},
   "outputs": [
    {
     "data": {
      "text/plain": [
       "False"
      ]
     },
     "execution_count": 36,
     "metadata": {},
     "output_type": "execute_result"
    }
   ],
   "source": [
    "#list.pop function is used to delete the elements from a specific place.\n",
    "list2.pop(6) #Mangoo has been deleted"
   ]
  },
  {
   "cell_type": "code",
   "execution_count": 37,
   "id": "c9aca3e3",
   "metadata": {},
   "outputs": [
    {
     "data": {
      "text/plain": [
       "['nokia', 'qmobile', 'samsung', 'sony']"
      ]
     },
     "execution_count": 37,
     "metadata": {},
     "output_type": "execute_result"
    }
   ],
   "source": [
    "#list.sort function is used to sort the elements in the list.\n",
    "Mobiles=[\"samsung\", \"nokia\", \"qmobile\", \"sony\"]\n",
    "Mobiles.sort()\n",
    "Mobiles   #alphabetically, order has been changed."
   ]
  },
  {
   "cell_type": "code",
   "execution_count": 38,
   "id": "e182ad51",
   "metadata": {},
   "outputs": [
    {
     "data": {
      "text/plain": [
       "['samsung', 'nokia', 'qmobile', 'sony']"
      ]
     },
     "execution_count": 38,
     "metadata": {},
     "output_type": "execute_result"
    }
   ],
   "source": [
    "#copy function is used to return a copy of a list.\n",
    "Mobiles=[\"samsung\", \"nokia\", \"qmobile\", \"sony\"]\n",
    "Mobiles.copy()"
   ]
  },
  {
   "cell_type": "markdown",
   "id": "75f82e03",
   "metadata": {},
   "source": [
    "---"
   ]
  },
  {
   "cell_type": "markdown",
   "id": "95a49b93",
   "metadata": {},
   "source": [
    "## 3- Dictionaries\n",
    "- An unorderd collection of elements\n",
    "- Key and values\n",
    "- Curly braces or bracket { } \n",
    "- Mutateable"
   ]
  },
  {
   "cell_type": "code",
   "execution_count": 39,
   "id": "3780f46a",
   "metadata": {
    "scrolled": false
   },
   "outputs": [
    {
     "data": {
      "text/plain": [
       "{'samosa': 30, 'pakora': 45, 'raita': 10, 'salad': 10}"
      ]
     },
     "execution_count": 39,
     "metadata": {},
     "output_type": "execute_result"
    }
   ],
   "source": [
    "#Foods and their prices\n",
    "food1= {\"samosa\":30, \"pakora\":45, \"raita\":10, \"salad\":10}   #here samosa is a key and it's price (30) is the value.\n",
    "food1"
   ]
  },
  {
   "cell_type": "code",
   "execution_count": 40,
   "id": "9867d281",
   "metadata": {},
   "outputs": [
    {
     "data": {
      "text/plain": [
       "dict"
      ]
     },
     "execution_count": 40,
     "metadata": {},
     "output_type": "execute_result"
    }
   ],
   "source": [
    "type(food1)"
   ]
  },
  {
   "cell_type": "code",
   "execution_count": 41,
   "id": "29355e87",
   "metadata": {},
   "outputs": [],
   "source": [
    "#let's extract the data\n",
    "keys1=food1.keys()"
   ]
  },
  {
   "cell_type": "code",
   "execution_count": 42,
   "id": "6144f333",
   "metadata": {},
   "outputs": [
    {
     "data": {
      "text/plain": [
       "dict_values([30, 45, 10, 10])"
      ]
     },
     "execution_count": 42,
     "metadata": {},
     "output_type": "execute_result"
    }
   ],
   "source": [
    "value1=food1.values()\n",
    "value1"
   ]
  },
  {
   "cell_type": "code",
   "execution_count": 43,
   "id": "1e3f985e",
   "metadata": {},
   "outputs": [],
   "source": [
    "#we can add new keys along with their values\n",
    "food1[\"Tikki\"]=10"
   ]
  },
  {
   "cell_type": "code",
   "execution_count": 44,
   "id": "a496595e",
   "metadata": {
    "scrolled": true
   },
   "outputs": [
    {
     "data": {
      "text/plain": [
       "{'samosa': 30, 'pakora': 45, 'raita': 10, 'salad': 10, 'Tikki': 10}"
      ]
     },
     "execution_count": 44,
     "metadata": {},
     "output_type": "execute_result"
    }
   ],
   "source": [
    "food1"
   ]
  },
  {
   "cell_type": "code",
   "execution_count": 45,
   "id": "eecbb8bd",
   "metadata": {},
   "outputs": [
    {
     "data": {
      "text/plain": [
       "{'samosa': 30, 'pakora': 45, 'raita': 10, 'salad': 10, 'Tikki': 15}"
      ]
     },
     "execution_count": 45,
     "metadata": {},
     "output_type": "execute_result"
    }
   ],
   "source": [
    "#we can update the values #we can simply make changes in the data\n",
    "food1[\"Tikki\"]=15\n",
    "food1"
   ]
  },
  {
   "cell_type": "code",
   "execution_count": 46,
   "id": "664f18e0",
   "metadata": {},
   "outputs": [
    {
     "data": {
      "text/plain": [
       "{'Apple': 200, 'Chocolates': 300, 'Dates': 500, 'Banana': 200}"
      ]
     },
     "execution_count": 46,
     "metadata": {},
     "output_type": "execute_result"
    }
   ],
   "source": [
    "food2={\"Apple\":200, \"Chocolates\":300, \"Dates\":500, \"Banana\":200}\n",
    "food2"
   ]
  },
  {
   "cell_type": "code",
   "execution_count": 47,
   "id": "dfd775f8",
   "metadata": {
    "scrolled": true
   },
   "outputs": [
    {
     "data": {
      "text/plain": [
       "{'samosa': 30,\n",
       " 'pakora': 45,\n",
       " 'raita': 10,\n",
       " 'salad': 10,\n",
       " 'Tikki': 15,\n",
       " 'Apple': 200,\n",
       " 'Chocolates': 300,\n",
       " 'Dates': 500,\n",
       " 'Banana': 200}"
      ]
     },
     "execution_count": 47,
     "metadata": {},
     "output_type": "execute_result"
    }
   ],
   "source": [
    "#concatenate or update the food lists.\n",
    "food1.update(food2)\n",
    "food1"
   ]
  },
  {
   "cell_type": "code",
   "execution_count": 48,
   "id": "83294aa2",
   "metadata": {},
   "outputs": [
    {
     "data": {
      "text/plain": [
       "10"
      ]
     },
     "execution_count": 48,
     "metadata": {},
     "output_type": "execute_result"
    }
   ],
   "source": [
    "#pop function is used to remove the element with the specified key.\n",
    "food1.pop(\"salad\")"
   ]
  },
  {
   "cell_type": "code",
   "execution_count": 49,
   "id": "b9903479",
   "metadata": {},
   "outputs": [
    {
     "data": {
      "text/plain": [
       "{}"
      ]
     },
     "execution_count": 49,
     "metadata": {},
     "output_type": "execute_result"
    }
   ],
   "source": [
    "#clear function is used to clear all the element in dictionary.\n",
    "food2.clear()\n",
    "food2"
   ]
  },
  {
   "cell_type": "code",
   "execution_count": 50,
   "id": "2220d09c",
   "metadata": {
    "scrolled": true
   },
   "outputs": [
    {
     "data": {
      "text/plain": [
       "{'samosa': 30,\n",
       " 'pakora': 45,\n",
       " 'raita': 10,\n",
       " 'Tikki': 15,\n",
       " 'Apple': 200,\n",
       " 'Chocolates': 300,\n",
       " 'Dates': 500,\n",
       " 'Banana': 200}"
      ]
     },
     "execution_count": 50,
     "metadata": {},
     "output_type": "execute_result"
    }
   ],
   "source": [
    "#copy function is used to return a copy of a dictionary.\n",
    "food1.copy()"
   ]
  },
  {
   "cell_type": "code",
   "execution_count": 79,
   "id": "73ae56d4",
   "metadata": {},
   "outputs": [
    {
     "data": {
      "text/plain": [
       "{'Chicken roll': (30, 40, 50),\n",
       " 'Naan': (30, 40, 50),\n",
       " 'Cold drink': (30, 40, 50)}"
      ]
     },
     "execution_count": 79,
     "metadata": {},
     "output_type": "execute_result"
    }
   ],
   "source": [
    "#fromkey function is used to add a specific value for different keys.\n",
    "x=\"Chicken roll\", \"Naan\", \"Cold drink\"\n",
    "y=30\n",
    "food1.fromkeys(x, y)"
   ]
  },
  {
   "cell_type": "code",
   "execution_count": 52,
   "id": "14efdbfd",
   "metadata": {
    "scrolled": true
   },
   "outputs": [
    {
     "data": {
      "text/plain": [
       "30"
      ]
     },
     "execution_count": 52,
     "metadata": {},
     "output_type": "execute_result"
    }
   ],
   "source": [
    "#get function is used to get the value of a specific key present in a dictionary.\n",
    "food1.get(\"samosa\")"
   ]
  },
  {
   "cell_type": "code",
   "execution_count": 53,
   "id": "ea3e0645",
   "metadata": {},
   "outputs": [
    {
     "data": {
      "text/plain": [
       "dict_items([('samosa', 30), ('pakora', 45), ('raita', 10), ('Tikki', 15), ('Apple', 200), ('Chocolates', 300), ('Dates', 500), ('Banana', 200)])"
      ]
     },
     "execution_count": 53,
     "metadata": {},
     "output_type": "execute_result"
    }
   ],
   "source": [
    "#items function is used to get a list containing a tuple for each key value pair. #there is a parenthesis around each key and value, that's why we are calling it tuple.\n",
    "food1.items() "
   ]
  },
  {
   "cell_type": "code",
   "execution_count": 54,
   "id": "64e900d5",
   "metadata": {},
   "outputs": [
    {
     "data": {
      "text/plain": [
       "dict_keys(['samosa', 'pakora', 'raita', 'Tikki', 'Apple', 'Chocolates', 'Dates', 'Banana'])"
      ]
     },
     "execution_count": 54,
     "metadata": {},
     "output_type": "execute_result"
    }
   ],
   "source": [
    "#keys function is used to get a list containing the dictionary's keys.\n",
    "keys2=food1.keys()\n",
    "keys2"
   ]
  },
  {
   "cell_type": "code",
   "execution_count": 55,
   "id": "e872b34a",
   "metadata": {},
   "outputs": [
    {
     "data": {
      "text/plain": [
       "dict_values([30, 45, 10, 15, 200, 300, 500, 200])"
      ]
     },
     "execution_count": 55,
     "metadata": {},
     "output_type": "execute_result"
    }
   ],
   "source": [
    "#values function is used to get a list containing the dictionary's keys.\n",
    "value2=food1.values()\n",
    "value2"
   ]
  },
  {
   "cell_type": "code",
   "execution_count": 56,
   "id": "729c93fa",
   "metadata": {},
   "outputs": [
    {
     "data": {
      "text/plain": [
       "{'samosa': 30, 'pakora': 45, 'raita': 10, 'salad': 10, 'Tikki': 15}"
      ]
     },
     "execution_count": 56,
     "metadata": {},
     "output_type": "execute_result"
    }
   ],
   "source": [
    "food1={'samosa': 30, 'pakora': 45, 'raita': 10, 'salad': 10, 'Tikki': 15}\n",
    "food1"
   ]
  },
  {
   "cell_type": "code",
   "execution_count": 57,
   "id": "ee55ef3d",
   "metadata": {
    "scrolled": true
   },
   "outputs": [
    {
     "data": {
      "text/plain": [
       "('Tikki', 15)"
      ]
     },
     "execution_count": 57,
     "metadata": {},
     "output_type": "execute_result"
    }
   ],
   "source": [
    "#popitem function is used to remove the last inserted key-value pair.\n",
    "food1.popitem()"
   ]
  },
  {
   "cell_type": "code",
   "execution_count": 58,
   "id": "6f82a6f1",
   "metadata": {
    "scrolled": true
   },
   "outputs": [
    {
     "data": {
      "text/plain": [
       "30"
      ]
     },
     "execution_count": 58,
     "metadata": {},
     "output_type": "execute_result"
    }
   ],
   "source": [
    "#setdefault function returns the value of the specified key. If the key does not exist, this value becomes the key's value.\n",
    "food1.setdefault(\"pakora\", 12) #the value of pakora has already fixed in the food1, that's why it shows 45 rather that 12.\n",
    "food1.setdefault(\"Naan Roll\", 30) #Naan Roll does no exist in the food1, hence 30 has become the value of Naan Roll (Key)"
   ]
  },
  {
   "cell_type": "markdown",
   "id": "138e7107",
   "metadata": {},
   "source": [
    "---"
   ]
  },
  {
   "cell_type": "markdown",
   "id": "585886d1",
   "metadata": {},
   "source": [
    "## 4-Set\n",
    "- Unordered and unindexed \n",
    "- Curly braces or bracket { }\n",
    "- No duplicates allowed"
   ]
  },
  {
   "cell_type": "code",
   "execution_count": 59,
   "id": "b33832a6",
   "metadata": {},
   "outputs": [
    {
     "data": {
      "text/plain": [
       "{1, 2.2, 55, 'Codanics', 'Faisalabad'}"
      ]
     },
     "execution_count": 59,
     "metadata": {},
     "output_type": "execute_result"
    }
   ],
   "source": [
    "s1={1, 2.2, 55, \"Codanics\", \"Faisalabad\", True} #boolian operators will not be print.\n",
    "s1"
   ]
  },
  {
   "cell_type": "code",
   "execution_count": 60,
   "id": "9e0d9646",
   "metadata": {
    "scrolled": true
   },
   "outputs": [
    {
     "data": {
      "text/plain": [
       "{1, 2.2, 55, 'Aammar', 'Codanics', 'Faisalabad'}"
      ]
     },
     "execution_count": 60,
     "metadata": {},
     "output_type": "execute_result"
    }
   ],
   "source": [
    "#add function is used to add something\n",
    "s1.add(\"Aammar\") \n",
    "s1.add(\"Aammar\") #no duplication\n",
    "s1"
   ]
  },
  {
   "cell_type": "code",
   "execution_count": 61,
   "id": "c7285fd0",
   "metadata": {},
   "outputs": [
    {
     "data": {
      "text/plain": [
       "{1, 2.2, 55, 'Codanics', 'Faisalabad'}"
      ]
     },
     "execution_count": 61,
     "metadata": {},
     "output_type": "execute_result"
    }
   ],
   "source": [
    "#remove function is used to remove something\n",
    "s1.remove(\"Aammar\")\n",
    "s1"
   ]
  },
  {
   "cell_type": "code",
   "execution_count": 62,
   "id": "12193686",
   "metadata": {
    "scrolled": true
   },
   "outputs": [
    {
     "data": {
      "text/plain": [
       "{1, 2.2, 55, 'Codanics', 'Faisalabad'}"
      ]
     },
     "execution_count": 62,
     "metadata": {},
     "output_type": "execute_result"
    }
   ],
   "source": [
    "#copy function is used to return a copy of the set.\n",
    "s1.copy()"
   ]
  },
  {
   "cell_type": "code",
   "execution_count": 63,
   "id": "a78784fb",
   "metadata": {},
   "outputs": [
    {
     "data": {
      "text/plain": [
       "{5, 7.5, True, 'bioinformatic', 'computer'}"
      ]
     },
     "execution_count": 63,
     "metadata": {},
     "output_type": "execute_result"
    }
   ],
   "source": [
    "s2={5, 7.5, \"computer\", \"bioinformatic\", True}\n",
    "s2"
   ]
  },
  {
   "cell_type": "code",
   "execution_count": 64,
   "id": "f81da958",
   "metadata": {},
   "outputs": [
    {
     "data": {
      "text/plain": [
       "set()"
      ]
     },
     "execution_count": 64,
     "metadata": {},
     "output_type": "execute_result"
    }
   ],
   "source": [
    "#clear function is used to remove all the element in a set.\n",
    "s2.clear()\n",
    "s2"
   ]
  },
  {
   "cell_type": "code",
   "execution_count": 65,
   "id": "c3ae159c",
   "metadata": {},
   "outputs": [
    {
     "data": {
      "text/plain": [
       "{26, 52.4, 'Call of Duty', 'Codanics', 'Faisalabad'}"
      ]
     },
     "execution_count": 65,
     "metadata": {},
     "output_type": "execute_result"
    }
   ],
   "source": [
    "s3={26, 52.4, \"Call of Duty\", \"Faisalabad\", \"Codanics\"}\n",
    "s3"
   ]
  },
  {
   "cell_type": "code",
   "execution_count": 66,
   "id": "46028039",
   "metadata": {},
   "outputs": [
    {
     "data": {
      "text/plain": [
       "{26, 52.4, 'Call of Duty'}"
      ]
     },
     "execution_count": 66,
     "metadata": {},
     "output_type": "execute_result"
    }
   ],
   "source": [
    "#difference function returns a set containing the difference between two or more sets\n",
    "dif1=s1.difference(s3) #this will return a set that has difference from s3.\n",
    "dif1\n",
    "dif2=s3.difference(s1) #this will return a set that has difference from s1.\n",
    "dif2"
   ]
  },
  {
   "cell_type": "code",
   "execution_count": 67,
   "id": "174c0057",
   "metadata": {},
   "outputs": [
    {
     "data": {
      "text/plain": [
       "{1, 2.2, 55}"
      ]
     },
     "execution_count": 67,
     "metadata": {},
     "output_type": "execute_result"
    }
   ],
   "source": [
    "#difference_update function is used to remove the items in this set that are also included in another, specified set.\n",
    "s1.difference_update(s3)\n",
    "s1"
   ]
  },
  {
   "cell_type": "code",
   "execution_count": 68,
   "id": "d50094c4",
   "metadata": {},
   "outputs": [
    {
     "data": {
      "text/plain": [
       "{26, 52.4, 'Call of Duty', 'Faisalabad'}"
      ]
     },
     "execution_count": 68,
     "metadata": {},
     "output_type": "execute_result"
    }
   ],
   "source": [
    "#discord function is used to remove a specific item in a set.\n",
    "s3.discard(\"Codanics\")\n",
    "s3"
   ]
  },
  {
   "cell_type": "code",
   "execution_count": 69,
   "id": "966246fc",
   "metadata": {},
   "outputs": [
    {
     "data": {
      "text/plain": [
       "{'Rice'}"
      ]
     },
     "execution_count": 69,
     "metadata": {},
     "output_type": "execute_result"
    }
   ],
   "source": [
    "#intersection function returns a set, that is the intersection of two or more sets\n",
    "a={\"Apple\", \"Banana\", \"Rice\", \"Mangoo\"}\n",
    "b={\"Rice\", \"Strawberry\", \"Juice\", \"Jaman\"}\n",
    "z=a.intersection(b)\n",
    "z"
   ]
  },
  {
   "cell_type": "code",
   "execution_count": 70,
   "id": "e0cdb2ed",
   "metadata": {
    "scrolled": false
   },
   "outputs": [
    {
     "data": {
      "text/plain": [
       "{'Ali', 'Zeeshan'}"
      ]
     },
     "execution_count": 70,
     "metadata": {},
     "output_type": "execute_result"
    }
   ],
   "source": [
    "#intersect_update function removes the items in a set that are not present in other, specified set(s)\n",
    "x={\"Ali\", \"Akram\", \"Zeeshan\", \"Human\", \"Error\"}\n",
    "y={\"Zeeshan\", \"Faizan\", \"Ali\", \"Video\"}\n",
    "x.intersection_update(y)\n",
    "x"
   ]
  },
  {
   "cell_type": "code",
   "execution_count": 71,
   "id": "9bcdcc27",
   "metadata": {},
   "outputs": [
    {
     "data": {
      "text/plain": [
       "False"
      ]
     },
     "execution_count": 71,
     "metadata": {},
     "output_type": "execute_result"
    }
   ],
   "source": [
    "#isdisjoint function is used to check whether two sets have a intersection or not.\n",
    "c={\"Ali\", \"Akram\", \"Zeeshan\", \"Human\", \"Error\"}\n",
    "d={\"Misbah\", \"Akram\", \"Afridi\", \"Babar\", \"Imad\"}\n",
    "c.isdisjoint(d)"
   ]
  },
  {
   "cell_type": "code",
   "execution_count": 72,
   "id": "e31018b2",
   "metadata": {},
   "outputs": [
    {
     "data": {
      "text/plain": [
       "True"
      ]
     },
     "execution_count": 72,
     "metadata": {},
     "output_type": "execute_result"
    }
   ],
   "source": [
    "#issubset function is used to check whether another set contains this set or not.\n",
    "e={1, 2, 3, \"a\", \"b\", \"c\"}\n",
    "f={\"c\", \"b\", \"a\", 3, 2, 1}\n",
    "sub_set=e.issubset(f)\n",
    "sub_set"
   ]
  },
  {
   "cell_type": "code",
   "execution_count": 73,
   "id": "207a5854",
   "metadata": {},
   "outputs": [
    {
     "data": {
      "text/plain": [
       "True"
      ]
     },
     "execution_count": 73,
     "metadata": {},
     "output_type": "execute_result"
    }
   ],
   "source": [
    "#isuperset function is used to check whether this set contains another set or not.\n",
    "h={\"h\", \"a\", \"b\", \"c\"}\n",
    "i={\"a\", \"b\", \"c\"}\n",
    "h.issuperset(i)"
   ]
  },
  {
   "cell_type": "code",
   "execution_count": 74,
   "id": "e762c342",
   "metadata": {},
   "outputs": [
    {
     "data": {
      "text/plain": [
       "'Mangoo'"
      ]
     },
     "execution_count": 74,
     "metadata": {},
     "output_type": "execute_result"
    }
   ],
   "source": [
    "#pop function is used to remove an element from the set one by one.\n",
    "fruits={\"Apple\", \"Mangoo\", \"Banana\", \"Cherry\", \"Jaman\"}\n",
    "f=fruits.pop()\n",
    "f\n",
    "\n",
    "\n"
   ]
  },
  {
   "cell_type": "code",
   "execution_count": 75,
   "id": "9d2a420e",
   "metadata": {},
   "outputs": [
    {
     "data": {
      "text/plain": [
       "{'Dry', 'Heat', 'Soil', 'Store', 'Structure'}"
      ]
     },
     "execution_count": 75,
     "metadata": {},
     "output_type": "execute_result"
    }
   ],
   "source": [
    "#symmetric_difference function returns a set with the symmetric differences of two sets.\n",
    "j={\"Bricks\", \"Soil\", \"Structure\", \"Dry\"}\n",
    "k={\"Heat\", \"Store\", \"Bricks\"}\n",
    "j.symmetric_difference(k)"
   ]
  },
  {
   "cell_type": "code",
   "execution_count": 76,
   "id": "ef097988",
   "metadata": {},
   "outputs": [
    {
     "data": {
      "text/plain": [
       "{'Dry', 'Heat', 'Soil', 'Store', 'Structure'}"
      ]
     },
     "execution_count": 76,
     "metadata": {},
     "output_type": "execute_result"
    }
   ],
   "source": [
    "#symmetric_difference_update function inserts the symmetric differences from a set and another.\n",
    "j.symmetric_difference_update(k)\n",
    "j"
   ]
  },
  {
   "cell_type": "code",
   "execution_count": 77,
   "id": "4b45a490",
   "metadata": {},
   "outputs": [
    {
     "data": {
      "text/plain": [
       "{'Bricks', 'Dry', 'Heat', 'Soil', 'Store', 'Structure'}"
      ]
     },
     "execution_count": 77,
     "metadata": {},
     "output_type": "execute_result"
    }
   ],
   "source": [
    "#union function returns a set containing the union of sets \n",
    "j.union(k)"
   ]
  },
  {
   "cell_type": "code",
   "execution_count": 78,
   "id": "b85caf76",
   "metadata": {},
   "outputs": [
    {
     "data": {
      "text/plain": [
       "{'Bricks', 'Dry', 'Heat', 'Soil', 'Store', 'Structure'}"
      ]
     },
     "execution_count": 78,
     "metadata": {},
     "output_type": "execute_result"
    }
   ],
   "source": [
    "#update function is used to update the current set, by adding items from another set (or any other iterable).\n",
    "#If an item is present in both sets, only one appearance of this item will be present in the updated set.\n",
    "j.update(k)\n",
    "j"
   ]
  }
 ],
 "metadata": {
  "kernelspec": {
   "display_name": "Python 3 (ipykernel)",
   "language": "python",
   "name": "python3"
  },
  "language_info": {
   "codemirror_mode": {
    "name": "ipython",
    "version": 3
   },
   "file_extension": ".py",
   "mimetype": "text/x-python",
   "name": "python",
   "nbconvert_exporter": "python",
   "pygments_lexer": "ipython3",
   "version": "3.9.12"
  }
 },
 "nbformat": 4,
 "nbformat_minor": 5
}

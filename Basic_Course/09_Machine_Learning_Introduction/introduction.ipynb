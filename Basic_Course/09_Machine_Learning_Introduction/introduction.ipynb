{
 "cells": [
  {
   "cell_type": "markdown",
   "id": "e9b6ca3c",
   "metadata": {},
   "source": [
    "# Machine Learning (ML)\n",
    "\n",
    "Machine learning is a type of artificial intelligence which allows machine to learn and make decision smartly. Machine learning algorithms use historical data as input to predict new output values."
   ]
  },
  {
   "cell_type": "markdown",
   "id": "27337a17",
   "metadata": {},
   "source": [
    "## Types of machine laerning\n",
    "- Supervised ML\n",
    "- Unsupervised ML\n",
    "- Semisupervised ML\n",
    "- Reinforcement ML"
   ]
  },
  {
   "cell_type": "markdown",
   "id": "1f1e14b2",
   "metadata": {},
   "source": [
    "### 1. Supervised Ml\n",
    "Supervised machine learning use labeled datasets to train algorithms that classify data or predict outcomes accurately.\n",
    "Data (80%) ---> Training model and learning patterns of data (20%) ---> Prediction ---> Output and report\n",
    "\n",
    "### Types\n",
    "- Classification (for categories)\n",
    "- Regression (for numerical data)\n",
    "\n",
    "### Algorithms\n",
    "- Logistic regression (It is used for predicting the categorical dependent variable using a given set of independent variables).\n",
    "- K-Nearest Neighbors (a non-parametric, supervised learning classifier, which uses proximity to make classifications or predictions about the grouping of an individual data point).\n",
    "- Support Vector Machine (a supervised learning model with associated learning algorithms that analyze data for classification and regression analysis.\n",
    "- Kernel SVM\n",
    "- Naives Bayes\n",
    "- Decision Tree Classification\n",
    "- Random Forest Classification\n",
    "\n"
   ]
  },
  {
   "cell_type": "markdown",
   "id": "d1439478",
   "metadata": {},
   "source": [
    "## 2. Unsupervised ML/ Clustering\n",
    "Unsupervised machine learning use artificial intelligence (AI) algorithms to identify patterns in data sets containing data points that are neither classified nor labeled.\n",
    "\n",
    "### Algorithms\n",
    "- K-Means Clustering\n",
    "- Hierarchical Clustering\n",
    "- Probabilistic Clustering"
   ]
  },
  {
   "cell_type": "markdown",
   "id": "d5220a75",
   "metadata": {},
   "source": [
    "## 3. Semisupervised ML\n",
    "Semisupervised machine learning is a mixture of supervised and unsupervised machine learning in which some data is labbeled and some unlabelled."
   ]
  },
  {
   "cell_type": "markdown",
   "id": "14aceb3e",
   "metadata": {},
   "source": [
    "## 4. Reinforcement ML\n",
    "Reinforcement Learning is a feedback-based Machine learning technique in which an agent learns to behave in an environment by performing the actions and seeing the results of actions. For each good action, the agent gets positive feedback, and for each bad action, the agent gets negative feedback or penalty.\n",
    "\n",
    "Since there is no labeled data, so the agent is bound to learn by its experience only. RL solves a specific type of problem where decision making is sequential, and the goal is long-term, such as game-playing, robotics, etc.\n",
    "\n",
    "### Algorithms\n",
    "- Model-Free Reinforcement Learning\n",
    "    1. Policy Optimization\n",
    "    2. Q-Learning\n",
    "- Model-Based Reinforcement Learning\n",
    "    1. Learn the Model\n",
    "    2. Given the Model"
   ]
  },
  {
   "cell_type": "code",
   "execution_count": null,
   "id": "65f720b4",
   "metadata": {},
   "outputs": [],
   "source": []
  }
 ],
 "metadata": {
  "kernelspec": {
   "display_name": "Python 3 (ipykernel)",
   "language": "python",
   "name": "python3"
  },
  "language_info": {
   "codemirror_mode": {
    "name": "ipython",
    "version": 3
   },
   "file_extension": ".py",
   "mimetype": "text/x-python",
   "name": "python",
   "nbconvert_exporter": "python",
   "pygments_lexer": "ipython3",
   "version": "3.9.12"
  }
 },
 "nbformat": 4,
 "nbformat_minor": 5
}

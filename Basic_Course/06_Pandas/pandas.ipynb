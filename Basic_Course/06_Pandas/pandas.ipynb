{
 "cells": [
  {
   "cell_type": "markdown",
   "metadata": {},
   "source": [
    "- Import libraries"
   ]
  },
  {
   "cell_type": "code",
   "execution_count": 2,
   "metadata": {},
   "outputs": [],
   "source": [
    "import pandas as pd\n",
    "import numpy as np"
   ]
  },
  {
   "cell_type": "code",
   "execution_count": 3,
   "metadata": {},
   "outputs": [
    {
     "data": {
      "text/plain": [
       "0    1\n",
       "1    2\n",
       "2    3\n",
       "3    4\n",
       "4    5\n",
       "5    6\n",
       "6    7\n",
       "7    8\n",
       "8    9\n",
       "dtype: int64"
      ]
     },
     "execution_count": 3,
     "metadata": {},
     "output_type": "execute_result"
    }
   ],
   "source": [
    "# Object creation\n",
    "s=pd.Series([1, 2, 3, 4, 5, 6 ,7 ,8, 9]) #on the left side number from 0-8 are representing row headings.\n",
    "s"
   ]
  },
  {
   "cell_type": "code",
   "execution_count": 4,
   "metadata": {},
   "outputs": [
    {
     "data": {
      "text/plain": [
       "0    1.0\n",
       "1    2.0\n",
       "2    4.0\n",
       "3    NaN\n",
       "4    6.0\n",
       "5    7.0\n",
       "6    8.0\n",
       "dtype: float64"
      ]
     },
     "execution_count": 4,
     "metadata": {},
     "output_type": "execute_result"
    }
   ],
   "source": [
    "#adding empty cell\n",
    "w=pd.Series([1, 2, 4, np.nan, 6, 7, 8])\n",
    "w"
   ]
  },
  {
   "cell_type": "code",
   "execution_count": 5,
   "metadata": {},
   "outputs": [
    {
     "data": {
      "text/plain": [
       "DatetimeIndex(['2022-01-01', '2022-01-02', '2022-01-03', '2022-01-04',\n",
       "               '2022-01-05', '2022-01-06', '2022-01-07', '2022-01-08',\n",
       "               '2022-01-09', '2022-01-10'],\n",
       "              dtype='datetime64[ns]', freq='D')"
      ]
     },
     "execution_count": 5,
     "metadata": {},
     "output_type": "execute_result"
    }
   ],
   "source": [
    "#date range\n",
    "dates=pd.date_range(\"20220101\", periods=10)\n",
    "dates"
   ]
  },
  {
   "cell_type": "code",
   "execution_count": 6,
   "metadata": {},
   "outputs": [
    {
     "data": {
      "text/html": [
       "<div>\n",
       "<style scoped>\n",
       "    .dataframe tbody tr th:only-of-type {\n",
       "        vertical-align: middle;\n",
       "    }\n",
       "\n",
       "    .dataframe tbody tr th {\n",
       "        vertical-align: top;\n",
       "    }\n",
       "\n",
       "    .dataframe thead th {\n",
       "        text-align: right;\n",
       "    }\n",
       "</style>\n",
       "<table border=\"1\" class=\"dataframe\">\n",
       "  <thead>\n",
       "    <tr style=\"text-align: right;\">\n",
       "      <th></th>\n",
       "      <th>A</th>\n",
       "      <th>B</th>\n",
       "      <th>D</th>\n",
       "      <th>C</th>\n",
       "    </tr>\n",
       "  </thead>\n",
       "  <tbody>\n",
       "    <tr>\n",
       "      <th>2022-01-01</th>\n",
       "      <td>0.135332</td>\n",
       "      <td>-1.321516</td>\n",
       "      <td>-0.140575</td>\n",
       "      <td>0.671970</td>\n",
       "    </tr>\n",
       "    <tr>\n",
       "      <th>2022-01-02</th>\n",
       "      <td>0.360503</td>\n",
       "      <td>-0.331225</td>\n",
       "      <td>0.149142</td>\n",
       "      <td>-1.022554</td>\n",
       "    </tr>\n",
       "    <tr>\n",
       "      <th>2022-01-03</th>\n",
       "      <td>1.062226</td>\n",
       "      <td>-0.310675</td>\n",
       "      <td>0.364203</td>\n",
       "      <td>1.186872</td>\n",
       "    </tr>\n",
       "    <tr>\n",
       "      <th>2022-01-04</th>\n",
       "      <td>0.841021</td>\n",
       "      <td>0.333299</td>\n",
       "      <td>-0.214869</td>\n",
       "      <td>-0.540444</td>\n",
       "    </tr>\n",
       "    <tr>\n",
       "      <th>2022-01-05</th>\n",
       "      <td>-0.394903</td>\n",
       "      <td>1.395951</td>\n",
       "      <td>-0.312918</td>\n",
       "      <td>0.216527</td>\n",
       "    </tr>\n",
       "    <tr>\n",
       "      <th>2022-01-06</th>\n",
       "      <td>-1.024692</td>\n",
       "      <td>-1.042177</td>\n",
       "      <td>0.551051</td>\n",
       "      <td>-0.594221</td>\n",
       "    </tr>\n",
       "    <tr>\n",
       "      <th>2022-01-07</th>\n",
       "      <td>-2.105584</td>\n",
       "      <td>1.111062</td>\n",
       "      <td>0.289942</td>\n",
       "      <td>0.302018</td>\n",
       "    </tr>\n",
       "    <tr>\n",
       "      <th>2022-01-08</th>\n",
       "      <td>0.393758</td>\n",
       "      <td>0.493581</td>\n",
       "      <td>-2.213503</td>\n",
       "      <td>1.237396</td>\n",
       "    </tr>\n",
       "    <tr>\n",
       "      <th>2022-01-09</th>\n",
       "      <td>-0.571681</td>\n",
       "      <td>-0.736928</td>\n",
       "      <td>-0.166763</td>\n",
       "      <td>0.262609</td>\n",
       "    </tr>\n",
       "    <tr>\n",
       "      <th>2022-01-10</th>\n",
       "      <td>-1.009297</td>\n",
       "      <td>1.427627</td>\n",
       "      <td>1.066729</td>\n",
       "      <td>-1.507219</td>\n",
       "    </tr>\n",
       "  </tbody>\n",
       "</table>\n",
       "</div>"
      ],
      "text/plain": [
       "                   A         B         D         C\n",
       "2022-01-01  0.135332 -1.321516 -0.140575  0.671970\n",
       "2022-01-02  0.360503 -0.331225  0.149142 -1.022554\n",
       "2022-01-03  1.062226 -0.310675  0.364203  1.186872\n",
       "2022-01-04  0.841021  0.333299 -0.214869 -0.540444\n",
       "2022-01-05 -0.394903  1.395951 -0.312918  0.216527\n",
       "2022-01-06 -1.024692 -1.042177  0.551051 -0.594221\n",
       "2022-01-07 -2.105584  1.111062  0.289942  0.302018\n",
       "2022-01-08  0.393758  0.493581 -2.213503  1.237396\n",
       "2022-01-09 -0.571681 -0.736928 -0.166763  0.262609\n",
       "2022-01-10 -1.009297  1.427627  1.066729 -1.507219"
      ]
     },
     "execution_count": 6,
     "metadata": {},
     "output_type": "execute_result"
    }
   ],
   "source": [
    "#Let's create data frame from above data\n",
    "import pandas as pd\n",
    "import numpy as np\n",
    "dates=pd.date_range(\"20220101\", periods=10)\n",
    "dates\n",
    "df=pd.DataFrame(np.random.randn(10,4), index=dates, columns=list(\"ABDC\")) #10= rows, 4=col, ABDC= columns name, index= data of dates we created. \n",
    "df"
   ]
  },
  {
   "cell_type": "code",
   "execution_count": 7,
   "metadata": {},
   "outputs": [
    {
     "data": {
      "text/html": [
       "<div>\n",
       "<style scoped>\n",
       "    .dataframe tbody tr th:only-of-type {\n",
       "        vertical-align: middle;\n",
       "    }\n",
       "\n",
       "    .dataframe tbody tr th {\n",
       "        vertical-align: top;\n",
       "    }\n",
       "\n",
       "    .dataframe thead th {\n",
       "        text-align: right;\n",
       "    }\n",
       "</style>\n",
       "<table border=\"1\" class=\"dataframe\">\n",
       "  <thead>\n",
       "    <tr style=\"text-align: right;\">\n",
       "      <th></th>\n",
       "      <th>A</th>\n",
       "      <th>B</th>\n",
       "      <th>C</th>\n",
       "      <th>D</th>\n",
       "      <th>E</th>\n",
       "      <th>F</th>\n",
       "    </tr>\n",
       "  </thead>\n",
       "  <tbody>\n",
       "    <tr>\n",
       "      <th>0</th>\n",
       "      <td>1.0</td>\n",
       "      <td>2021-01-02</td>\n",
       "      <td>1.0</td>\n",
       "      <td>3</td>\n",
       "      <td>girl</td>\n",
       "      <td>female</td>\n",
       "    </tr>\n",
       "    <tr>\n",
       "      <th>1</th>\n",
       "      <td>1.0</td>\n",
       "      <td>2021-01-02</td>\n",
       "      <td>1.0</td>\n",
       "      <td>3</td>\n",
       "      <td>woman</td>\n",
       "      <td>female</td>\n",
       "    </tr>\n",
       "    <tr>\n",
       "      <th>2</th>\n",
       "      <td>1.0</td>\n",
       "      <td>2021-01-02</td>\n",
       "      <td>1.0</td>\n",
       "      <td>3</td>\n",
       "      <td>girl</td>\n",
       "      <td>female</td>\n",
       "    </tr>\n",
       "    <tr>\n",
       "      <th>3</th>\n",
       "      <td>1.0</td>\n",
       "      <td>2021-01-02</td>\n",
       "      <td>1.0</td>\n",
       "      <td>3</td>\n",
       "      <td>women</td>\n",
       "      <td>female</td>\n",
       "    </tr>\n",
       "  </tbody>\n",
       "</table>\n",
       "</div>"
      ],
      "text/plain": [
       "     A          B    C  D      E       F\n",
       "0  1.0 2021-01-02  1.0  3   girl  female\n",
       "1  1.0 2021-01-02  1.0  3  woman  female\n",
       "2  1.0 2021-01-02  1.0  3   girl  female\n",
       "3  1.0 2021-01-02  1.0  3  women  female"
      ]
     },
     "execution_count": 7,
     "metadata": {},
     "output_type": "execute_result"
    }
   ],
   "source": [
    "#Let's create another dataframe\n",
    "df2 = pd.DataFrame(\n",
    "    {\n",
    "        \"A\": 1.0,\n",
    "        \"B\": pd.Timestamp(\"20210102\"),\n",
    "        \"C\": pd.Series(1, index=list(range(4)), dtype= \"float32\"), \n",
    "        \"D\": np.array([3]*4, dtype=(\"int32\")),\n",
    "        \"E\": pd.Categorical([\"girl\", \"woman\", \"girl\", \"women\"]),\n",
    "        \"F\": \"female\",})\n",
    "        \n",
    "df2"
   ]
  },
  {
   "cell_type": "code",
   "execution_count": 8,
   "metadata": {},
   "outputs": [
    {
     "data": {
      "text/plain": [
       "A           float64\n",
       "B    datetime64[ns]\n",
       "C           float32\n",
       "D             int32\n",
       "E          category\n",
       "F            object\n",
       "dtype: object"
      ]
     },
     "execution_count": 8,
     "metadata": {},
     "output_type": "execute_result"
    }
   ],
   "source": [
    "df2.dtypes"
   ]
  },
  {
   "cell_type": "code",
   "execution_count": 9,
   "metadata": {},
   "outputs": [
    {
     "data": {
      "text/html": [
       "<div>\n",
       "<style scoped>\n",
       "    .dataframe tbody tr th:only-of-type {\n",
       "        vertical-align: middle;\n",
       "    }\n",
       "\n",
       "    .dataframe tbody tr th {\n",
       "        vertical-align: top;\n",
       "    }\n",
       "\n",
       "    .dataframe thead th {\n",
       "        text-align: right;\n",
       "    }\n",
       "</style>\n",
       "<table border=\"1\" class=\"dataframe\">\n",
       "  <thead>\n",
       "    <tr style=\"text-align: right;\">\n",
       "      <th></th>\n",
       "      <th>A</th>\n",
       "      <th>B</th>\n",
       "      <th>C</th>\n",
       "      <th>D</th>\n",
       "      <th>E</th>\n",
       "      <th>F</th>\n",
       "    </tr>\n",
       "  </thead>\n",
       "  <tbody>\n",
       "    <tr>\n",
       "      <th>0</th>\n",
       "      <td>1.0</td>\n",
       "      <td>2021-01-02</td>\n",
       "      <td>1.0</td>\n",
       "      <td>3</td>\n",
       "      <td>girl</td>\n",
       "      <td>female</td>\n",
       "    </tr>\n",
       "    <tr>\n",
       "      <th>1</th>\n",
       "      <td>1.0</td>\n",
       "      <td>2021-01-02</td>\n",
       "      <td>1.0</td>\n",
       "      <td>3</td>\n",
       "      <td>woman</td>\n",
       "      <td>female</td>\n",
       "    </tr>\n",
       "    <tr>\n",
       "      <th>2</th>\n",
       "      <td>1.0</td>\n",
       "      <td>2021-01-02</td>\n",
       "      <td>1.0</td>\n",
       "      <td>3</td>\n",
       "      <td>girl</td>\n",
       "      <td>female</td>\n",
       "    </tr>\n",
       "    <tr>\n",
       "      <th>3</th>\n",
       "      <td>1.0</td>\n",
       "      <td>2021-01-02</td>\n",
       "      <td>1.0</td>\n",
       "      <td>3</td>\n",
       "      <td>women</td>\n",
       "      <td>female</td>\n",
       "    </tr>\n",
       "  </tbody>\n",
       "</table>\n",
       "</div>"
      ],
      "text/plain": [
       "     A          B    C  D      E       F\n",
       "0  1.0 2021-01-02  1.0  3   girl  female\n",
       "1  1.0 2021-01-02  1.0  3  woman  female\n",
       "2  1.0 2021-01-02  1.0  3   girl  female\n",
       "3  1.0 2021-01-02  1.0  3  women  female"
      ]
     },
     "execution_count": 9,
     "metadata": {},
     "output_type": "execute_result"
    }
   ],
   "source": [
    "#Let's view the data\n",
    "df2.head() #this function generally shows first five rows. However, we can put manual numbers."
   ]
  },
  {
   "cell_type": "code",
   "execution_count": 10,
   "metadata": {},
   "outputs": [
    {
     "data": {
      "text/html": [
       "<div>\n",
       "<style scoped>\n",
       "    .dataframe tbody tr th:only-of-type {\n",
       "        vertical-align: middle;\n",
       "    }\n",
       "\n",
       "    .dataframe tbody tr th {\n",
       "        vertical-align: top;\n",
       "    }\n",
       "\n",
       "    .dataframe thead th {\n",
       "        text-align: right;\n",
       "    }\n",
       "</style>\n",
       "<table border=\"1\" class=\"dataframe\">\n",
       "  <thead>\n",
       "    <tr style=\"text-align: right;\">\n",
       "      <th></th>\n",
       "      <th>A</th>\n",
       "      <th>B</th>\n",
       "      <th>C</th>\n",
       "      <th>D</th>\n",
       "      <th>E</th>\n",
       "      <th>F</th>\n",
       "    </tr>\n",
       "  </thead>\n",
       "  <tbody>\n",
       "    <tr>\n",
       "      <th>2</th>\n",
       "      <td>1.0</td>\n",
       "      <td>2021-01-02</td>\n",
       "      <td>1.0</td>\n",
       "      <td>3</td>\n",
       "      <td>girl</td>\n",
       "      <td>female</td>\n",
       "    </tr>\n",
       "    <tr>\n",
       "      <th>3</th>\n",
       "      <td>1.0</td>\n",
       "      <td>2021-01-02</td>\n",
       "      <td>1.0</td>\n",
       "      <td>3</td>\n",
       "      <td>women</td>\n",
       "      <td>female</td>\n",
       "    </tr>\n",
       "  </tbody>\n",
       "</table>\n",
       "</div>"
      ],
      "text/plain": [
       "     A          B    C  D      E       F\n",
       "2  1.0 2021-01-02  1.0  3   girl  female\n",
       "3  1.0 2021-01-02  1.0  3  women  female"
      ]
     },
     "execution_count": 10,
     "metadata": {},
     "output_type": "execute_result"
    }
   ],
   "source": [
    "df2.tail(2) #this function shows last rows."
   ]
  },
  {
   "cell_type": "code",
   "execution_count": 11,
   "metadata": {},
   "outputs": [
    {
     "data": {
      "text/plain": [
       "Int64Index([0, 1, 2, 3], dtype='int64')"
      ]
     },
     "execution_count": 11,
     "metadata": {},
     "output_type": "execute_result"
    }
   ],
   "source": [
    "df2.index #index means row headings "
   ]
  },
  {
   "cell_type": "code",
   "execution_count": 12,
   "metadata": {},
   "outputs": [
    {
     "data": {
      "text/plain": [
       "array([[ 0.13533182, -1.32151602, -0.14057496,  0.67196997],\n",
       "       [ 0.36050304, -0.33122503,  0.14914242, -1.02255373],\n",
       "       [ 1.06222567, -0.31067533,  0.36420281,  1.18687181],\n",
       "       [ 0.84102106,  0.3332993 , -0.21486944, -0.54044436],\n",
       "       [-0.39490261,  1.39595066, -0.31291765,  0.21652677],\n",
       "       [-1.024692  , -1.04217715,  0.55105107, -0.59422076],\n",
       "       [-2.1055842 ,  1.111062  ,  0.28994212,  0.30201818],\n",
       "       [ 0.39375834,  0.49358142, -2.21350327,  1.23739569],\n",
       "       [-0.57168063, -0.73692807, -0.16676267,  0.26260935],\n",
       "       [-1.00929678,  1.4276265 ,  1.06672851, -1.50721889]])"
      ]
     },
     "execution_count": 12,
     "metadata": {},
     "output_type": "execute_result"
    }
   ],
   "source": [
    "#Let's convert dataframe into numpy array\n",
    "df.to_numpy ()"
   ]
  },
  {
   "cell_type": "code",
   "execution_count": 13,
   "metadata": {},
   "outputs": [
    {
     "data": {
      "text/plain": [
       "array([[1.0, Timestamp('2021-01-02 00:00:00'), 1.0, 3, 'girl', 'female'],\n",
       "       [1.0, Timestamp('2021-01-02 00:00:00'), 1.0, 3, 'woman', 'female'],\n",
       "       [1.0, Timestamp('2021-01-02 00:00:00'), 1.0, 3, 'girl', 'female'],\n",
       "       [1.0, Timestamp('2021-01-02 00:00:00'), 1.0, 3, 'women', 'female']],\n",
       "      dtype=object)"
      ]
     },
     "execution_count": 13,
     "metadata": {},
     "output_type": "execute_result"
    }
   ],
   "source": [
    "df2.to_numpy()"
   ]
  },
  {
   "cell_type": "code",
   "execution_count": 14,
   "metadata": {},
   "outputs": [
    {
     "data": {
      "text/html": [
       "<div>\n",
       "<style scoped>\n",
       "    .dataframe tbody tr th:only-of-type {\n",
       "        vertical-align: middle;\n",
       "    }\n",
       "\n",
       "    .dataframe tbody tr th {\n",
       "        vertical-align: top;\n",
       "    }\n",
       "\n",
       "    .dataframe thead th {\n",
       "        text-align: right;\n",
       "    }\n",
       "</style>\n",
       "<table border=\"1\" class=\"dataframe\">\n",
       "  <thead>\n",
       "    <tr style=\"text-align: right;\">\n",
       "      <th></th>\n",
       "      <th>A</th>\n",
       "      <th>C</th>\n",
       "      <th>D</th>\n",
       "    </tr>\n",
       "  </thead>\n",
       "  <tbody>\n",
       "    <tr>\n",
       "      <th>count</th>\n",
       "      <td>4.0</td>\n",
       "      <td>4.0</td>\n",
       "      <td>4.0</td>\n",
       "    </tr>\n",
       "    <tr>\n",
       "      <th>mean</th>\n",
       "      <td>1.0</td>\n",
       "      <td>1.0</td>\n",
       "      <td>3.0</td>\n",
       "    </tr>\n",
       "    <tr>\n",
       "      <th>std</th>\n",
       "      <td>0.0</td>\n",
       "      <td>0.0</td>\n",
       "      <td>0.0</td>\n",
       "    </tr>\n",
       "    <tr>\n",
       "      <th>min</th>\n",
       "      <td>1.0</td>\n",
       "      <td>1.0</td>\n",
       "      <td>3.0</td>\n",
       "    </tr>\n",
       "    <tr>\n",
       "      <th>25%</th>\n",
       "      <td>1.0</td>\n",
       "      <td>1.0</td>\n",
       "      <td>3.0</td>\n",
       "    </tr>\n",
       "    <tr>\n",
       "      <th>50%</th>\n",
       "      <td>1.0</td>\n",
       "      <td>1.0</td>\n",
       "      <td>3.0</td>\n",
       "    </tr>\n",
       "    <tr>\n",
       "      <th>75%</th>\n",
       "      <td>1.0</td>\n",
       "      <td>1.0</td>\n",
       "      <td>3.0</td>\n",
       "    </tr>\n",
       "    <tr>\n",
       "      <th>max</th>\n",
       "      <td>1.0</td>\n",
       "      <td>1.0</td>\n",
       "      <td>3.0</td>\n",
       "    </tr>\n",
       "  </tbody>\n",
       "</table>\n",
       "</div>"
      ],
      "text/plain": [
       "         A    C    D\n",
       "count  4.0  4.0  4.0\n",
       "mean   1.0  1.0  3.0\n",
       "std    0.0  0.0  0.0\n",
       "min    1.0  1.0  3.0\n",
       "25%    1.0  1.0  3.0\n",
       "50%    1.0  1.0  3.0\n",
       "75%    1.0  1.0  3.0\n",
       "max    1.0  1.0  3.0"
      ]
     },
     "execution_count": 14,
     "metadata": {},
     "output_type": "execute_result"
    }
   ],
   "source": [
    "df2.describe()"
   ]
  },
  {
   "cell_type": "code",
   "execution_count": 15,
   "metadata": {},
   "outputs": [
    {
     "data": {
      "text/html": [
       "<div>\n",
       "<style scoped>\n",
       "    .dataframe tbody tr th:only-of-type {\n",
       "        vertical-align: middle;\n",
       "    }\n",
       "\n",
       "    .dataframe tbody tr th {\n",
       "        vertical-align: top;\n",
       "    }\n",
       "\n",
       "    .dataframe thead th {\n",
       "        text-align: right;\n",
       "    }\n",
       "</style>\n",
       "<table border=\"1\" class=\"dataframe\">\n",
       "  <thead>\n",
       "    <tr style=\"text-align: right;\">\n",
       "      <th></th>\n",
       "      <th>0</th>\n",
       "      <th>1</th>\n",
       "      <th>2</th>\n",
       "      <th>3</th>\n",
       "    </tr>\n",
       "  </thead>\n",
       "  <tbody>\n",
       "    <tr>\n",
       "      <th>A</th>\n",
       "      <td>1.0</td>\n",
       "      <td>1.0</td>\n",
       "      <td>1.0</td>\n",
       "      <td>1.0</td>\n",
       "    </tr>\n",
       "    <tr>\n",
       "      <th>B</th>\n",
       "      <td>2021-01-02 00:00:00</td>\n",
       "      <td>2021-01-02 00:00:00</td>\n",
       "      <td>2021-01-02 00:00:00</td>\n",
       "      <td>2021-01-02 00:00:00</td>\n",
       "    </tr>\n",
       "    <tr>\n",
       "      <th>C</th>\n",
       "      <td>1.0</td>\n",
       "      <td>1.0</td>\n",
       "      <td>1.0</td>\n",
       "      <td>1.0</td>\n",
       "    </tr>\n",
       "    <tr>\n",
       "      <th>D</th>\n",
       "      <td>3</td>\n",
       "      <td>3</td>\n",
       "      <td>3</td>\n",
       "      <td>3</td>\n",
       "    </tr>\n",
       "    <tr>\n",
       "      <th>E</th>\n",
       "      <td>girl</td>\n",
       "      <td>woman</td>\n",
       "      <td>girl</td>\n",
       "      <td>women</td>\n",
       "    </tr>\n",
       "    <tr>\n",
       "      <th>F</th>\n",
       "      <td>female</td>\n",
       "      <td>female</td>\n",
       "      <td>female</td>\n",
       "      <td>female</td>\n",
       "    </tr>\n",
       "  </tbody>\n",
       "</table>\n",
       "</div>"
      ],
      "text/plain": [
       "                     0                    1                    2  \\\n",
       "A                  1.0                  1.0                  1.0   \n",
       "B  2021-01-02 00:00:00  2021-01-02 00:00:00  2021-01-02 00:00:00   \n",
       "C                  1.0                  1.0                  1.0   \n",
       "D                    3                    3                    3   \n",
       "E                 girl                woman                 girl   \n",
       "F               female               female               female   \n",
       "\n",
       "                     3  \n",
       "A                  1.0  \n",
       "B  2021-01-02 00:00:00  \n",
       "C                  1.0  \n",
       "D                    3  \n",
       "E                women  \n",
       "F               female  "
      ]
     },
     "execution_count": 15,
     "metadata": {},
     "output_type": "execute_result"
    }
   ],
   "source": [
    "#transpose the data\n",
    "df2.T"
   ]
  },
  {
   "cell_type": "code",
   "execution_count": 16,
   "metadata": {},
   "outputs": [
    {
     "data": {
      "text/html": [
       "<div>\n",
       "<style scoped>\n",
       "    .dataframe tbody tr th:only-of-type {\n",
       "        vertical-align: middle;\n",
       "    }\n",
       "\n",
       "    .dataframe tbody tr th {\n",
       "        vertical-align: top;\n",
       "    }\n",
       "\n",
       "    .dataframe thead th {\n",
       "        text-align: right;\n",
       "    }\n",
       "</style>\n",
       "<table border=\"1\" class=\"dataframe\">\n",
       "  <thead>\n",
       "    <tr style=\"text-align: right;\">\n",
       "      <th></th>\n",
       "      <th>A</th>\n",
       "      <th>B</th>\n",
       "      <th>D</th>\n",
       "      <th>C</th>\n",
       "    </tr>\n",
       "  </thead>\n",
       "  <tbody>\n",
       "    <tr>\n",
       "      <th>2022-01-01</th>\n",
       "      <td>0.135332</td>\n",
       "      <td>-1.321516</td>\n",
       "      <td>-0.140575</td>\n",
       "      <td>0.671970</td>\n",
       "    </tr>\n",
       "    <tr>\n",
       "      <th>2022-01-02</th>\n",
       "      <td>0.360503</td>\n",
       "      <td>-0.331225</td>\n",
       "      <td>0.149142</td>\n",
       "      <td>-1.022554</td>\n",
       "    </tr>\n",
       "    <tr>\n",
       "      <th>2022-01-03</th>\n",
       "      <td>1.062226</td>\n",
       "      <td>-0.310675</td>\n",
       "      <td>0.364203</td>\n",
       "      <td>1.186872</td>\n",
       "    </tr>\n",
       "    <tr>\n",
       "      <th>2022-01-04</th>\n",
       "      <td>0.841021</td>\n",
       "      <td>0.333299</td>\n",
       "      <td>-0.214869</td>\n",
       "      <td>-0.540444</td>\n",
       "    </tr>\n",
       "    <tr>\n",
       "      <th>2022-01-05</th>\n",
       "      <td>-0.394903</td>\n",
       "      <td>1.395951</td>\n",
       "      <td>-0.312918</td>\n",
       "      <td>0.216527</td>\n",
       "    </tr>\n",
       "    <tr>\n",
       "      <th>2022-01-06</th>\n",
       "      <td>-1.024692</td>\n",
       "      <td>-1.042177</td>\n",
       "      <td>0.551051</td>\n",
       "      <td>-0.594221</td>\n",
       "    </tr>\n",
       "    <tr>\n",
       "      <th>2022-01-07</th>\n",
       "      <td>-2.105584</td>\n",
       "      <td>1.111062</td>\n",
       "      <td>0.289942</td>\n",
       "      <td>0.302018</td>\n",
       "    </tr>\n",
       "    <tr>\n",
       "      <th>2022-01-08</th>\n",
       "      <td>0.393758</td>\n",
       "      <td>0.493581</td>\n",
       "      <td>-2.213503</td>\n",
       "      <td>1.237396</td>\n",
       "    </tr>\n",
       "    <tr>\n",
       "      <th>2022-01-09</th>\n",
       "      <td>-0.571681</td>\n",
       "      <td>-0.736928</td>\n",
       "      <td>-0.166763</td>\n",
       "      <td>0.262609</td>\n",
       "    </tr>\n",
       "    <tr>\n",
       "      <th>2022-01-10</th>\n",
       "      <td>-1.009297</td>\n",
       "      <td>1.427627</td>\n",
       "      <td>1.066729</td>\n",
       "      <td>-1.507219</td>\n",
       "    </tr>\n",
       "  </tbody>\n",
       "</table>\n",
       "</div>"
      ],
      "text/plain": [
       "                   A         B         D         C\n",
       "2022-01-01  0.135332 -1.321516 -0.140575  0.671970\n",
       "2022-01-02  0.360503 -0.331225  0.149142 -1.022554\n",
       "2022-01-03  1.062226 -0.310675  0.364203  1.186872\n",
       "2022-01-04  0.841021  0.333299 -0.214869 -0.540444\n",
       "2022-01-05 -0.394903  1.395951 -0.312918  0.216527\n",
       "2022-01-06 -1.024692 -1.042177  0.551051 -0.594221\n",
       "2022-01-07 -2.105584  1.111062  0.289942  0.302018\n",
       "2022-01-08  0.393758  0.493581 -2.213503  1.237396\n",
       "2022-01-09 -0.571681 -0.736928 -0.166763  0.262609\n",
       "2022-01-10 -1.009297  1.427627  1.066729 -1.507219"
      ]
     },
     "execution_count": 16,
     "metadata": {},
     "output_type": "execute_result"
    }
   ],
   "source": [
    "#sorting of data\n",
    "df.sort_index(axis=0, ascending=True)"
   ]
  },
  {
   "cell_type": "code",
   "execution_count": 17,
   "metadata": {},
   "outputs": [
    {
     "data": {
      "text/html": [
       "<div>\n",
       "<style scoped>\n",
       "    .dataframe tbody tr th:only-of-type {\n",
       "        vertical-align: middle;\n",
       "    }\n",
       "\n",
       "    .dataframe tbody tr th {\n",
       "        vertical-align: top;\n",
       "    }\n",
       "\n",
       "    .dataframe thead th {\n",
       "        text-align: right;\n",
       "    }\n",
       "</style>\n",
       "<table border=\"1\" class=\"dataframe\">\n",
       "  <thead>\n",
       "    <tr style=\"text-align: right;\">\n",
       "      <th></th>\n",
       "      <th>A</th>\n",
       "      <th>B</th>\n",
       "      <th>D</th>\n",
       "      <th>C</th>\n",
       "    </tr>\n",
       "  </thead>\n",
       "  <tbody>\n",
       "    <tr>\n",
       "      <th>2022-01-01</th>\n",
       "      <td>0.135332</td>\n",
       "      <td>-1.321516</td>\n",
       "      <td>-0.140575</td>\n",
       "      <td>0.671970</td>\n",
       "    </tr>\n",
       "    <tr>\n",
       "      <th>2022-01-06</th>\n",
       "      <td>-1.024692</td>\n",
       "      <td>-1.042177</td>\n",
       "      <td>0.551051</td>\n",
       "      <td>-0.594221</td>\n",
       "    </tr>\n",
       "    <tr>\n",
       "      <th>2022-01-09</th>\n",
       "      <td>-0.571681</td>\n",
       "      <td>-0.736928</td>\n",
       "      <td>-0.166763</td>\n",
       "      <td>0.262609</td>\n",
       "    </tr>\n",
       "    <tr>\n",
       "      <th>2022-01-02</th>\n",
       "      <td>0.360503</td>\n",
       "      <td>-0.331225</td>\n",
       "      <td>0.149142</td>\n",
       "      <td>-1.022554</td>\n",
       "    </tr>\n",
       "    <tr>\n",
       "      <th>2022-01-03</th>\n",
       "      <td>1.062226</td>\n",
       "      <td>-0.310675</td>\n",
       "      <td>0.364203</td>\n",
       "      <td>1.186872</td>\n",
       "    </tr>\n",
       "    <tr>\n",
       "      <th>2022-01-04</th>\n",
       "      <td>0.841021</td>\n",
       "      <td>0.333299</td>\n",
       "      <td>-0.214869</td>\n",
       "      <td>-0.540444</td>\n",
       "    </tr>\n",
       "    <tr>\n",
       "      <th>2022-01-08</th>\n",
       "      <td>0.393758</td>\n",
       "      <td>0.493581</td>\n",
       "      <td>-2.213503</td>\n",
       "      <td>1.237396</td>\n",
       "    </tr>\n",
       "    <tr>\n",
       "      <th>2022-01-07</th>\n",
       "      <td>-2.105584</td>\n",
       "      <td>1.111062</td>\n",
       "      <td>0.289942</td>\n",
       "      <td>0.302018</td>\n",
       "    </tr>\n",
       "    <tr>\n",
       "      <th>2022-01-05</th>\n",
       "      <td>-0.394903</td>\n",
       "      <td>1.395951</td>\n",
       "      <td>-0.312918</td>\n",
       "      <td>0.216527</td>\n",
       "    </tr>\n",
       "    <tr>\n",
       "      <th>2022-01-10</th>\n",
       "      <td>-1.009297</td>\n",
       "      <td>1.427627</td>\n",
       "      <td>1.066729</td>\n",
       "      <td>-1.507219</td>\n",
       "    </tr>\n",
       "  </tbody>\n",
       "</table>\n",
       "</div>"
      ],
      "text/plain": [
       "                   A         B         D         C\n",
       "2022-01-01  0.135332 -1.321516 -0.140575  0.671970\n",
       "2022-01-06 -1.024692 -1.042177  0.551051 -0.594221\n",
       "2022-01-09 -0.571681 -0.736928 -0.166763  0.262609\n",
       "2022-01-02  0.360503 -0.331225  0.149142 -1.022554\n",
       "2022-01-03  1.062226 -0.310675  0.364203  1.186872\n",
       "2022-01-04  0.841021  0.333299 -0.214869 -0.540444\n",
       "2022-01-08  0.393758  0.493581 -2.213503  1.237396\n",
       "2022-01-07 -2.105584  1.111062  0.289942  0.302018\n",
       "2022-01-05 -0.394903  1.395951 -0.312918  0.216527\n",
       "2022-01-10 -1.009297  1.427627  1.066729 -1.507219"
      ]
     },
     "execution_count": 17,
     "metadata": {},
     "output_type": "execute_result"
    }
   ],
   "source": [
    "#sorting values based on a column\n",
    "df.sort_values(by=\"B\", ascending=True)"
   ]
  },
  {
   "cell_type": "code",
   "execution_count": 18,
   "metadata": {},
   "outputs": [
    {
     "data": {
      "text/plain": [
       "2022-01-01    0.135332\n",
       "2022-01-02    0.360503\n",
       "2022-01-03    1.062226\n",
       "2022-01-04    0.841021\n",
       "2022-01-05   -0.394903\n",
       "2022-01-06   -1.024692\n",
       "2022-01-07   -2.105584\n",
       "2022-01-08    0.393758\n",
       "2022-01-09   -0.571681\n",
       "2022-01-10   -1.009297\n",
       "Freq: D, Name: A, dtype: float64"
      ]
     },
     "execution_count": 18,
     "metadata": {},
     "output_type": "execute_result"
    }
   ],
   "source": [
    "#selecting a specific column\n",
    "df[\"A\"]"
   ]
  },
  {
   "cell_type": "code",
   "execution_count": 19,
   "metadata": {},
   "outputs": [
    {
     "data": {
      "text/html": [
       "<div>\n",
       "<style scoped>\n",
       "    .dataframe tbody tr th:only-of-type {\n",
       "        vertical-align: middle;\n",
       "    }\n",
       "\n",
       "    .dataframe tbody tr th {\n",
       "        vertical-align: top;\n",
       "    }\n",
       "\n",
       "    .dataframe thead th {\n",
       "        text-align: right;\n",
       "    }\n",
       "</style>\n",
       "<table border=\"1\" class=\"dataframe\">\n",
       "  <thead>\n",
       "    <tr style=\"text-align: right;\">\n",
       "      <th></th>\n",
       "      <th>A</th>\n",
       "      <th>B</th>\n",
       "      <th>D</th>\n",
       "      <th>C</th>\n",
       "    </tr>\n",
       "  </thead>\n",
       "  <tbody>\n",
       "    <tr>\n",
       "      <th>2022-01-01</th>\n",
       "      <td>0.135332</td>\n",
       "      <td>-1.321516</td>\n",
       "      <td>-0.140575</td>\n",
       "      <td>0.671970</td>\n",
       "    </tr>\n",
       "    <tr>\n",
       "      <th>2022-01-02</th>\n",
       "      <td>0.360503</td>\n",
       "      <td>-0.331225</td>\n",
       "      <td>0.149142</td>\n",
       "      <td>-1.022554</td>\n",
       "    </tr>\n",
       "    <tr>\n",
       "      <th>2022-01-03</th>\n",
       "      <td>1.062226</td>\n",
       "      <td>-0.310675</td>\n",
       "      <td>0.364203</td>\n",
       "      <td>1.186872</td>\n",
       "    </tr>\n",
       "    <tr>\n",
       "      <th>2022-01-04</th>\n",
       "      <td>0.841021</td>\n",
       "      <td>0.333299</td>\n",
       "      <td>-0.214869</td>\n",
       "      <td>-0.540444</td>\n",
       "    </tr>\n",
       "    <tr>\n",
       "      <th>2022-01-05</th>\n",
       "      <td>-0.394903</td>\n",
       "      <td>1.395951</td>\n",
       "      <td>-0.312918</td>\n",
       "      <td>0.216527</td>\n",
       "    </tr>\n",
       "    <tr>\n",
       "      <th>2022-01-06</th>\n",
       "      <td>-1.024692</td>\n",
       "      <td>-1.042177</td>\n",
       "      <td>0.551051</td>\n",
       "      <td>-0.594221</td>\n",
       "    </tr>\n",
       "    <tr>\n",
       "      <th>2022-01-07</th>\n",
       "      <td>-2.105584</td>\n",
       "      <td>1.111062</td>\n",
       "      <td>0.289942</td>\n",
       "      <td>0.302018</td>\n",
       "    </tr>\n",
       "    <tr>\n",
       "      <th>2022-01-08</th>\n",
       "      <td>0.393758</td>\n",
       "      <td>0.493581</td>\n",
       "      <td>-2.213503</td>\n",
       "      <td>1.237396</td>\n",
       "    </tr>\n",
       "    <tr>\n",
       "      <th>2022-01-09</th>\n",
       "      <td>-0.571681</td>\n",
       "      <td>-0.736928</td>\n",
       "      <td>-0.166763</td>\n",
       "      <td>0.262609</td>\n",
       "    </tr>\n",
       "    <tr>\n",
       "      <th>2022-01-10</th>\n",
       "      <td>-1.009297</td>\n",
       "      <td>1.427627</td>\n",
       "      <td>1.066729</td>\n",
       "      <td>-1.507219</td>\n",
       "    </tr>\n",
       "  </tbody>\n",
       "</table>\n",
       "</div>"
      ],
      "text/plain": [
       "                   A         B         D         C\n",
       "2022-01-01  0.135332 -1.321516 -0.140575  0.671970\n",
       "2022-01-02  0.360503 -0.331225  0.149142 -1.022554\n",
       "2022-01-03  1.062226 -0.310675  0.364203  1.186872\n",
       "2022-01-04  0.841021  0.333299 -0.214869 -0.540444\n",
       "2022-01-05 -0.394903  1.395951 -0.312918  0.216527\n",
       "2022-01-06 -1.024692 -1.042177  0.551051 -0.594221\n",
       "2022-01-07 -2.105584  1.111062  0.289942  0.302018\n",
       "2022-01-08  0.393758  0.493581 -2.213503  1.237396\n",
       "2022-01-09 -0.571681 -0.736928 -0.166763  0.262609\n",
       "2022-01-10 -1.009297  1.427627  1.066729 -1.507219"
      ]
     },
     "execution_count": 19,
     "metadata": {},
     "output_type": "execute_result"
    }
   ],
   "source": [
    "df[0:]"
   ]
  },
  {
   "cell_type": "code",
   "execution_count": 20,
   "metadata": {},
   "outputs": [
    {
     "data": {
      "text/html": [
       "<div>\n",
       "<style scoped>\n",
       "    .dataframe tbody tr th:only-of-type {\n",
       "        vertical-align: middle;\n",
       "    }\n",
       "\n",
       "    .dataframe tbody tr th {\n",
       "        vertical-align: top;\n",
       "    }\n",
       "\n",
       "    .dataframe thead th {\n",
       "        text-align: right;\n",
       "    }\n",
       "</style>\n",
       "<table border=\"1\" class=\"dataframe\">\n",
       "  <thead>\n",
       "    <tr style=\"text-align: right;\">\n",
       "      <th></th>\n",
       "      <th>A</th>\n",
       "      <th>B</th>\n",
       "      <th>D</th>\n",
       "      <th>C</th>\n",
       "    </tr>\n",
       "  </thead>\n",
       "  <tbody>\n",
       "    <tr>\n",
       "      <th>2022-01-01</th>\n",
       "      <td>0.135332</td>\n",
       "      <td>-1.321516</td>\n",
       "      <td>-0.140575</td>\n",
       "      <td>0.67197</td>\n",
       "    </tr>\n",
       "  </tbody>\n",
       "</table>\n",
       "</div>"
      ],
      "text/plain": [
       "                   A         B         D        C\n",
       "2022-01-01  0.135332 -1.321516 -0.140575  0.67197"
      ]
     },
     "execution_count": 20,
     "metadata": {},
     "output_type": "execute_result"
    }
   ],
   "source": [
    "df[0:1]"
   ]
  },
  {
   "cell_type": "code",
   "execution_count": 21,
   "metadata": {},
   "outputs": [
    {
     "data": {
      "text/html": [
       "<div>\n",
       "<style scoped>\n",
       "    .dataframe tbody tr th:only-of-type {\n",
       "        vertical-align: middle;\n",
       "    }\n",
       "\n",
       "    .dataframe tbody tr th {\n",
       "        vertical-align: top;\n",
       "    }\n",
       "\n",
       "    .dataframe thead th {\n",
       "        text-align: right;\n",
       "    }\n",
       "</style>\n",
       "<table border=\"1\" class=\"dataframe\">\n",
       "  <thead>\n",
       "    <tr style=\"text-align: right;\">\n",
       "      <th></th>\n",
       "      <th>A</th>\n",
       "      <th>B</th>\n",
       "      <th>D</th>\n",
       "      <th>C</th>\n",
       "    </tr>\n",
       "  </thead>\n",
       "  <tbody>\n",
       "    <tr>\n",
       "      <th>2022-01-01</th>\n",
       "      <td>0.135332</td>\n",
       "      <td>-1.321516</td>\n",
       "      <td>-0.140575</td>\n",
       "      <td>0.671970</td>\n",
       "    </tr>\n",
       "    <tr>\n",
       "      <th>2022-01-02</th>\n",
       "      <td>0.360503</td>\n",
       "      <td>-0.331225</td>\n",
       "      <td>0.149142</td>\n",
       "      <td>-1.022554</td>\n",
       "    </tr>\n",
       "    <tr>\n",
       "      <th>2022-01-03</th>\n",
       "      <td>1.062226</td>\n",
       "      <td>-0.310675</td>\n",
       "      <td>0.364203</td>\n",
       "      <td>1.186872</td>\n",
       "    </tr>\n",
       "    <tr>\n",
       "      <th>2022-01-04</th>\n",
       "      <td>0.841021</td>\n",
       "      <td>0.333299</td>\n",
       "      <td>-0.214869</td>\n",
       "      <td>-0.540444</td>\n",
       "    </tr>\n",
       "    <tr>\n",
       "      <th>2022-01-05</th>\n",
       "      <td>-0.394903</td>\n",
       "      <td>1.395951</td>\n",
       "      <td>-0.312918</td>\n",
       "      <td>0.216527</td>\n",
       "    </tr>\n",
       "  </tbody>\n",
       "</table>\n",
       "</div>"
      ],
      "text/plain": [
       "                   A         B         D         C\n",
       "2022-01-01  0.135332 -1.321516 -0.140575  0.671970\n",
       "2022-01-02  0.360503 -0.331225  0.149142 -1.022554\n",
       "2022-01-03  1.062226 -0.310675  0.364203  1.186872\n",
       "2022-01-04  0.841021  0.333299 -0.214869 -0.540444\n",
       "2022-01-05 -0.394903  1.395951 -0.312918  0.216527"
      ]
     },
     "execution_count": 21,
     "metadata": {},
     "output_type": "execute_result"
    }
   ],
   "source": [
    "df[0:5] #we can use this function for row wise selection."
   ]
  },
  {
   "cell_type": "code",
   "execution_count": 22,
   "metadata": {},
   "outputs": [
    {
     "data": {
      "text/plain": [
       "A    0.135332\n",
       "B   -1.321516\n",
       "D   -0.140575\n",
       "C    0.671970\n",
       "Name: 2022-01-01 00:00:00, dtype: float64"
      ]
     },
     "execution_count": 22,
     "metadata": {},
     "output_type": "execute_result"
    }
   ],
   "source": [
    "#selection by label \n",
    "df.loc[dates[0]] \n",
    "#this is also row wise selection     "
   ]
  },
  {
   "cell_type": "code",
   "execution_count": 23,
   "metadata": {},
   "outputs": [
    {
     "data": {
      "text/plain": [
       "A    0.360503\n",
       "B   -0.331225\n",
       "D    0.149142\n",
       "C   -1.022554\n",
       "Name: 2022-01-02 00:00:00, dtype: float64"
      ]
     },
     "execution_count": 23,
     "metadata": {},
     "output_type": "execute_result"
    }
   ],
   "source": [
    "df.loc[dates[1]] #row wise selection"
   ]
  },
  {
   "cell_type": "code",
   "execution_count": 24,
   "metadata": {},
   "outputs": [
    {
     "data": {
      "text/html": [
       "<div>\n",
       "<style scoped>\n",
       "    .dataframe tbody tr th:only-of-type {\n",
       "        vertical-align: middle;\n",
       "    }\n",
       "\n",
       "    .dataframe tbody tr th {\n",
       "        vertical-align: top;\n",
       "    }\n",
       "\n",
       "    .dataframe thead th {\n",
       "        text-align: right;\n",
       "    }\n",
       "</style>\n",
       "<table border=\"1\" class=\"dataframe\">\n",
       "  <thead>\n",
       "    <tr style=\"text-align: right;\">\n",
       "      <th></th>\n",
       "      <th>A</th>\n",
       "      <th>B</th>\n",
       "    </tr>\n",
       "  </thead>\n",
       "  <tbody>\n",
       "    <tr>\n",
       "      <th>2022-01-01</th>\n",
       "      <td>0.135332</td>\n",
       "      <td>-1.321516</td>\n",
       "    </tr>\n",
       "    <tr>\n",
       "      <th>2022-01-02</th>\n",
       "      <td>0.360503</td>\n",
       "      <td>-0.331225</td>\n",
       "    </tr>\n",
       "    <tr>\n",
       "      <th>2022-01-03</th>\n",
       "      <td>1.062226</td>\n",
       "      <td>-0.310675</td>\n",
       "    </tr>\n",
       "    <tr>\n",
       "      <th>2022-01-04</th>\n",
       "      <td>0.841021</td>\n",
       "      <td>0.333299</td>\n",
       "    </tr>\n",
       "    <tr>\n",
       "      <th>2022-01-05</th>\n",
       "      <td>-0.394903</td>\n",
       "      <td>1.395951</td>\n",
       "    </tr>\n",
       "    <tr>\n",
       "      <th>2022-01-06</th>\n",
       "      <td>-1.024692</td>\n",
       "      <td>-1.042177</td>\n",
       "    </tr>\n",
       "    <tr>\n",
       "      <th>2022-01-07</th>\n",
       "      <td>-2.105584</td>\n",
       "      <td>1.111062</td>\n",
       "    </tr>\n",
       "    <tr>\n",
       "      <th>2022-01-08</th>\n",
       "      <td>0.393758</td>\n",
       "      <td>0.493581</td>\n",
       "    </tr>\n",
       "    <tr>\n",
       "      <th>2022-01-09</th>\n",
       "      <td>-0.571681</td>\n",
       "      <td>-0.736928</td>\n",
       "    </tr>\n",
       "    <tr>\n",
       "      <th>2022-01-10</th>\n",
       "      <td>-1.009297</td>\n",
       "      <td>1.427627</td>\n",
       "    </tr>\n",
       "  </tbody>\n",
       "</table>\n",
       "</div>"
      ],
      "text/plain": [
       "                   A         B\n",
       "2022-01-01  0.135332 -1.321516\n",
       "2022-01-02  0.360503 -0.331225\n",
       "2022-01-03  1.062226 -0.310675\n",
       "2022-01-04  0.841021  0.333299\n",
       "2022-01-05 -0.394903  1.395951\n",
       "2022-01-06 -1.024692 -1.042177\n",
       "2022-01-07 -2.105584  1.111062\n",
       "2022-01-08  0.393758  0.493581\n",
       "2022-01-09 -0.571681 -0.736928\n",
       "2022-01-10 -1.009297  1.427627"
      ]
     },
     "execution_count": 24,
     "metadata": {},
     "output_type": "execute_result"
    }
   ],
   "source": [
    "df.loc[:, [\"A\", \"B\"]] #column wise selection"
   ]
  },
  {
   "cell_type": "code",
   "execution_count": 25,
   "metadata": {},
   "outputs": [
    {
     "data": {
      "text/html": [
       "<div>\n",
       "<style scoped>\n",
       "    .dataframe tbody tr th:only-of-type {\n",
       "        vertical-align: middle;\n",
       "    }\n",
       "\n",
       "    .dataframe tbody tr th {\n",
       "        vertical-align: top;\n",
       "    }\n",
       "\n",
       "    .dataframe thead th {\n",
       "        text-align: right;\n",
       "    }\n",
       "</style>\n",
       "<table border=\"1\" class=\"dataframe\">\n",
       "  <thead>\n",
       "    <tr style=\"text-align: right;\">\n",
       "      <th></th>\n",
       "      <th>C</th>\n",
       "      <th>D</th>\n",
       "    </tr>\n",
       "  </thead>\n",
       "  <tbody>\n",
       "    <tr>\n",
       "      <th>2022-01-02</th>\n",
       "      <td>-1.022554</td>\n",
       "      <td>0.149142</td>\n",
       "    </tr>\n",
       "    <tr>\n",
       "      <th>2022-01-03</th>\n",
       "      <td>1.186872</td>\n",
       "      <td>0.364203</td>\n",
       "    </tr>\n",
       "    <tr>\n",
       "      <th>2022-01-04</th>\n",
       "      <td>-0.540444</td>\n",
       "      <td>-0.214869</td>\n",
       "    </tr>\n",
       "  </tbody>\n",
       "</table>\n",
       "</div>"
      ],
      "text/plain": [
       "                   C         D\n",
       "2022-01-02 -1.022554  0.149142\n",
       "2022-01-03  1.186872  0.364203\n",
       "2022-01-04 -0.540444 -0.214869"
      ]
     },
     "execution_count": 25,
     "metadata": {},
     "output_type": "execute_result"
    }
   ],
   "source": [
    "df.loc[\"20220102\":\"2022-01-04\", [\"C\", \"D\"]] #here : means that show us the value from 02 to 04 date."
   ]
  },
  {
   "cell_type": "code",
   "execution_count": 26,
   "metadata": {},
   "outputs": [
    {
     "data": {
      "text/html": [
       "<div>\n",
       "<style scoped>\n",
       "    .dataframe tbody tr th:only-of-type {\n",
       "        vertical-align: middle;\n",
       "    }\n",
       "\n",
       "    .dataframe tbody tr th {\n",
       "        vertical-align: top;\n",
       "    }\n",
       "\n",
       "    .dataframe thead th {\n",
       "        text-align: right;\n",
       "    }\n",
       "</style>\n",
       "<table border=\"1\" class=\"dataframe\">\n",
       "  <thead>\n",
       "    <tr style=\"text-align: right;\">\n",
       "      <th></th>\n",
       "      <th>C</th>\n",
       "      <th>D</th>\n",
       "    </tr>\n",
       "  </thead>\n",
       "  <tbody>\n",
       "    <tr>\n",
       "      <th>2022-01-02</th>\n",
       "      <td>-1.022554</td>\n",
       "      <td>0.149142</td>\n",
       "    </tr>\n",
       "    <tr>\n",
       "      <th>2022-01-04</th>\n",
       "      <td>-0.540444</td>\n",
       "      <td>-0.214869</td>\n",
       "    </tr>\n",
       "  </tbody>\n",
       "</table>\n",
       "</div>"
      ],
      "text/plain": [
       "                   C         D\n",
       "2022-01-02 -1.022554  0.149142\n",
       "2022-01-04 -0.540444 -0.214869"
      ]
     },
     "execution_count": 26,
     "metadata": {},
     "output_type": "execute_result"
    }
   ],
   "source": [
    "#Let's use , instead of :\n",
    "df.loc[[\"20220102\", \"2022-01-04\"], [\"C\", \"D\"]] #here , gave us the values of 02 and 04 dates. "
   ]
  },
  {
   "cell_type": "code",
   "execution_count": 27,
   "metadata": {},
   "outputs": [
    {
     "data": {
      "text/html": [
       "<div>\n",
       "<style scoped>\n",
       "    .dataframe tbody tr th:only-of-type {\n",
       "        vertical-align: middle;\n",
       "    }\n",
       "\n",
       "    .dataframe tbody tr th {\n",
       "        vertical-align: top;\n",
       "    }\n",
       "\n",
       "    .dataframe thead th {\n",
       "        text-align: right;\n",
       "    }\n",
       "</style>\n",
       "<table border=\"1\" class=\"dataframe\">\n",
       "  <thead>\n",
       "    <tr style=\"text-align: right;\">\n",
       "      <th></th>\n",
       "      <th>A</th>\n",
       "      <th>C</th>\n",
       "      <th>D</th>\n",
       "    </tr>\n",
       "  </thead>\n",
       "  <tbody>\n",
       "    <tr>\n",
       "      <th>2022-01-02</th>\n",
       "      <td>0.360503</td>\n",
       "      <td>-1.022554</td>\n",
       "      <td>0.149142</td>\n",
       "    </tr>\n",
       "    <tr>\n",
       "      <th>2022-01-04</th>\n",
       "      <td>0.841021</td>\n",
       "      <td>-0.540444</td>\n",
       "      <td>-0.214869</td>\n",
       "    </tr>\n",
       "  </tbody>\n",
       "</table>\n",
       "</div>"
      ],
      "text/plain": [
       "                   A         C         D\n",
       "2022-01-02  0.360503 -1.022554  0.149142\n",
       "2022-01-04  0.841021 -0.540444 -0.214869"
      ]
     },
     "execution_count": 27,
     "metadata": {},
     "output_type": "execute_result"
    }
   ],
   "source": [
    "df.loc[[\"20220102\", \"2022-01-04\"], [\"A\", \"C\", \"D\"]]"
   ]
  },
  {
   "cell_type": "code",
   "execution_count": 28,
   "metadata": {},
   "outputs": [
    {
     "data": {
      "text/plain": [
       "A    0.393758\n",
       "B    0.493581\n",
       "Name: 2022-01-08 00:00:00, dtype: float64"
      ]
     },
     "execution_count": 28,
     "metadata": {},
     "output_type": "execute_result"
    }
   ],
   "source": [
    "df.loc[\"20220108\", [\"A\", \"B\"]] # we can get data of a single date for specific columns using this function."
   ]
  },
  {
   "cell_type": "code",
   "execution_count": 29,
   "metadata": {},
   "outputs": [
    {
     "data": {
      "text/plain": [
       "-0.3949026074246438"
      ]
     },
     "execution_count": 29,
     "metadata": {},
     "output_type": "execute_result"
    }
   ],
   "source": [
    "df.at[dates[4], \"A\"] #this function can be used to get the value of a column on a specific date."
   ]
  },
  {
   "cell_type": "code",
   "execution_count": 30,
   "metadata": {},
   "outputs": [
    {
     "data": {
      "text/plain": [
       "-0.33122503106344303"
      ]
     },
     "execution_count": 30,
     "metadata": {},
     "output_type": "execute_result"
    }
   ],
   "source": [
    "df.at[dates[1], \"B\"]"
   ]
  },
  {
   "cell_type": "code",
   "execution_count": 31,
   "metadata": {},
   "outputs": [
    {
     "data": {
      "text/plain": [
       "A    0.841021\n",
       "B    0.333299\n",
       "D   -0.214869\n",
       "C   -0.540444\n",
       "Name: 2022-01-04 00:00:00, dtype: float64"
      ]
     },
     "execution_count": 31,
     "metadata": {},
     "output_type": "execute_result"
    }
   ],
   "source": [
    "#selection based on position\n",
    "df.iloc[3] \n",
    "# this is showing values of all columns based on the position of date \"2022-01-04\" which is presentn on third position. "
   ]
  },
  {
   "cell_type": "code",
   "execution_count": 32,
   "metadata": {},
   "outputs": [
    {
     "data": {
      "text/html": [
       "<div>\n",
       "<style scoped>\n",
       "    .dataframe tbody tr th:only-of-type {\n",
       "        vertical-align: middle;\n",
       "    }\n",
       "\n",
       "    .dataframe tbody tr th {\n",
       "        vertical-align: top;\n",
       "    }\n",
       "\n",
       "    .dataframe thead th {\n",
       "        text-align: right;\n",
       "    }\n",
       "</style>\n",
       "<table border=\"1\" class=\"dataframe\">\n",
       "  <thead>\n",
       "    <tr style=\"text-align: right;\">\n",
       "      <th></th>\n",
       "      <th>A</th>\n",
       "      <th>B</th>\n",
       "      <th>D</th>\n",
       "      <th>C</th>\n",
       "    </tr>\n",
       "  </thead>\n",
       "  <tbody>\n",
       "    <tr>\n",
       "      <th>2022-01-04</th>\n",
       "      <td>0.841021</td>\n",
       "      <td>0.333299</td>\n",
       "      <td>-0.214869</td>\n",
       "      <td>-0.540444</td>\n",
       "    </tr>\n",
       "    <tr>\n",
       "      <th>2022-01-05</th>\n",
       "      <td>-0.394903</td>\n",
       "      <td>1.395951</td>\n",
       "      <td>-0.312918</td>\n",
       "      <td>0.216527</td>\n",
       "    </tr>\n",
       "    <tr>\n",
       "      <th>2022-01-06</th>\n",
       "      <td>-1.024692</td>\n",
       "      <td>-1.042177</td>\n",
       "      <td>0.551051</td>\n",
       "      <td>-0.594221</td>\n",
       "    </tr>\n",
       "    <tr>\n",
       "      <th>2022-01-07</th>\n",
       "      <td>-2.105584</td>\n",
       "      <td>1.111062</td>\n",
       "      <td>0.289942</td>\n",
       "      <td>0.302018</td>\n",
       "    </tr>\n",
       "    <tr>\n",
       "      <th>2022-01-08</th>\n",
       "      <td>0.393758</td>\n",
       "      <td>0.493581</td>\n",
       "      <td>-2.213503</td>\n",
       "      <td>1.237396</td>\n",
       "    </tr>\n",
       "  </tbody>\n",
       "</table>\n",
       "</div>"
      ],
      "text/plain": [
       "                   A         B         D         C\n",
       "2022-01-04  0.841021  0.333299 -0.214869 -0.540444\n",
       "2022-01-05 -0.394903  1.395951 -0.312918  0.216527\n",
       "2022-01-06 -1.024692 -1.042177  0.551051 -0.594221\n",
       "2022-01-07 -2.105584  1.111062  0.289942  0.302018\n",
       "2022-01-08  0.393758  0.493581 -2.213503  1.237396"
      ]
     },
     "execution_count": 32,
     "metadata": {},
     "output_type": "execute_result"
    }
   ],
   "source": [
    "df.iloc[3:8] #showing data from date 03 to 08."
   ]
  },
  {
   "cell_type": "code",
   "execution_count": 33,
   "metadata": {},
   "outputs": [
    {
     "data": {
      "text/html": [
       "<div>\n",
       "<style scoped>\n",
       "    .dataframe tbody tr th:only-of-type {\n",
       "        vertical-align: middle;\n",
       "    }\n",
       "\n",
       "    .dataframe tbody tr th {\n",
       "        vertical-align: top;\n",
       "    }\n",
       "\n",
       "    .dataframe thead th {\n",
       "        text-align: right;\n",
       "    }\n",
       "</style>\n",
       "<table border=\"1\" class=\"dataframe\">\n",
       "  <thead>\n",
       "    <tr style=\"text-align: right;\">\n",
       "      <th></th>\n",
       "      <th>A</th>\n",
       "      <th>B</th>\n",
       "      <th>D</th>\n",
       "    </tr>\n",
       "  </thead>\n",
       "  <tbody>\n",
       "    <tr>\n",
       "      <th>2022-01-01</th>\n",
       "      <td>0.135332</td>\n",
       "      <td>-1.321516</td>\n",
       "      <td>-0.140575</td>\n",
       "    </tr>\n",
       "    <tr>\n",
       "      <th>2022-01-02</th>\n",
       "      <td>0.360503</td>\n",
       "      <td>-0.331225</td>\n",
       "      <td>0.149142</td>\n",
       "    </tr>\n",
       "    <tr>\n",
       "      <th>2022-01-03</th>\n",
       "      <td>1.062226</td>\n",
       "      <td>-0.310675</td>\n",
       "      <td>0.364203</td>\n",
       "    </tr>\n",
       "    <tr>\n",
       "      <th>2022-01-04</th>\n",
       "      <td>0.841021</td>\n",
       "      <td>0.333299</td>\n",
       "      <td>-0.214869</td>\n",
       "    </tr>\n",
       "  </tbody>\n",
       "</table>\n",
       "</div>"
      ],
      "text/plain": [
       "                   A         B         D\n",
       "2022-01-01  0.135332 -1.321516 -0.140575\n",
       "2022-01-02  0.360503 -0.331225  0.149142\n",
       "2022-01-03  1.062226 -0.310675  0.364203\n",
       "2022-01-04  0.841021  0.333299 -0.214869"
      ]
     },
     "execution_count": 33,
     "metadata": {},
     "output_type": "execute_result"
    }
   ],
   "source": [
    "df.iloc[0:4, 0:3] #here 0:4 are rows and 0:3 are columns. Rows are always on left side."
   ]
  },
  {
   "cell_type": "code",
   "execution_count": 34,
   "metadata": {},
   "outputs": [
    {
     "data": {
      "text/html": [
       "<div>\n",
       "<style scoped>\n",
       "    .dataframe tbody tr th:only-of-type {\n",
       "        vertical-align: middle;\n",
       "    }\n",
       "\n",
       "    .dataframe tbody tr th {\n",
       "        vertical-align: top;\n",
       "    }\n",
       "\n",
       "    .dataframe thead th {\n",
       "        text-align: right;\n",
       "    }\n",
       "</style>\n",
       "<table border=\"1\" class=\"dataframe\">\n",
       "  <thead>\n",
       "    <tr style=\"text-align: right;\">\n",
       "      <th></th>\n",
       "      <th>A</th>\n",
       "      <th>B</th>\n",
       "      <th>D</th>\n",
       "      <th>C</th>\n",
       "    </tr>\n",
       "  </thead>\n",
       "  <tbody>\n",
       "    <tr>\n",
       "      <th>2022-01-01</th>\n",
       "      <td>0.135332</td>\n",
       "      <td>-1.321516</td>\n",
       "      <td>-0.140575</td>\n",
       "      <td>0.671970</td>\n",
       "    </tr>\n",
       "    <tr>\n",
       "      <th>2022-01-02</th>\n",
       "      <td>0.360503</td>\n",
       "      <td>-0.331225</td>\n",
       "      <td>0.149142</td>\n",
       "      <td>-1.022554</td>\n",
       "    </tr>\n",
       "    <tr>\n",
       "      <th>2022-01-03</th>\n",
       "      <td>1.062226</td>\n",
       "      <td>-0.310675</td>\n",
       "      <td>0.364203</td>\n",
       "      <td>1.186872</td>\n",
       "    </tr>\n",
       "    <tr>\n",
       "      <th>2022-01-04</th>\n",
       "      <td>0.841021</td>\n",
       "      <td>0.333299</td>\n",
       "      <td>-0.214869</td>\n",
       "      <td>-0.540444</td>\n",
       "    </tr>\n",
       "    <tr>\n",
       "      <th>2022-01-05</th>\n",
       "      <td>-0.394903</td>\n",
       "      <td>1.395951</td>\n",
       "      <td>-0.312918</td>\n",
       "      <td>0.216527</td>\n",
       "    </tr>\n",
       "    <tr>\n",
       "      <th>2022-01-06</th>\n",
       "      <td>-1.024692</td>\n",
       "      <td>-1.042177</td>\n",
       "      <td>0.551051</td>\n",
       "      <td>-0.594221</td>\n",
       "    </tr>\n",
       "    <tr>\n",
       "      <th>2022-01-07</th>\n",
       "      <td>-2.105584</td>\n",
       "      <td>1.111062</td>\n",
       "      <td>0.289942</td>\n",
       "      <td>0.302018</td>\n",
       "    </tr>\n",
       "  </tbody>\n",
       "</table>\n",
       "</div>"
      ],
      "text/plain": [
       "                   A         B         D         C\n",
       "2022-01-01  0.135332 -1.321516 -0.140575  0.671970\n",
       "2022-01-02  0.360503 -0.331225  0.149142 -1.022554\n",
       "2022-01-03  1.062226 -0.310675  0.364203  1.186872\n",
       "2022-01-04  0.841021  0.333299 -0.214869 -0.540444\n",
       "2022-01-05 -0.394903  1.395951 -0.312918  0.216527\n",
       "2022-01-06 -1.024692 -1.042177  0.551051 -0.594221\n",
       "2022-01-07 -2.105584  1.111062  0.289942  0.302018"
      ]
     },
     "execution_count": 34,
     "metadata": {},
     "output_type": "execute_result"
    }
   ],
   "source": [
    "df.iloc[0:7, :] #this function can be used to get all columns."
   ]
  },
  {
   "cell_type": "code",
   "execution_count": 35,
   "metadata": {},
   "outputs": [
    {
     "data": {
      "text/html": [
       "<div>\n",
       "<style scoped>\n",
       "    .dataframe tbody tr th:only-of-type {\n",
       "        vertical-align: middle;\n",
       "    }\n",
       "\n",
       "    .dataframe tbody tr th {\n",
       "        vertical-align: top;\n",
       "    }\n",
       "\n",
       "    .dataframe thead th {\n",
       "        text-align: right;\n",
       "    }\n",
       "</style>\n",
       "<table border=\"1\" class=\"dataframe\">\n",
       "  <thead>\n",
       "    <tr style=\"text-align: right;\">\n",
       "      <th></th>\n",
       "      <th>A</th>\n",
       "      <th>B</th>\n",
       "      <th>D</th>\n",
       "      <th>C</th>\n",
       "    </tr>\n",
       "  </thead>\n",
       "  <tbody>\n",
       "    <tr>\n",
       "      <th>2022-01-01</th>\n",
       "      <td>0.135332</td>\n",
       "      <td>-1.321516</td>\n",
       "      <td>-0.140575</td>\n",
       "      <td>0.671970</td>\n",
       "    </tr>\n",
       "    <tr>\n",
       "      <th>2022-01-02</th>\n",
       "      <td>0.360503</td>\n",
       "      <td>-0.331225</td>\n",
       "      <td>0.149142</td>\n",
       "      <td>-1.022554</td>\n",
       "    </tr>\n",
       "    <tr>\n",
       "      <th>2022-01-03</th>\n",
       "      <td>1.062226</td>\n",
       "      <td>-0.310675</td>\n",
       "      <td>0.364203</td>\n",
       "      <td>1.186872</td>\n",
       "    </tr>\n",
       "    <tr>\n",
       "      <th>2022-01-04</th>\n",
       "      <td>0.841021</td>\n",
       "      <td>0.333299</td>\n",
       "      <td>-0.214869</td>\n",
       "      <td>-0.540444</td>\n",
       "    </tr>\n",
       "    <tr>\n",
       "      <th>2022-01-05</th>\n",
       "      <td>-0.394903</td>\n",
       "      <td>1.395951</td>\n",
       "      <td>-0.312918</td>\n",
       "      <td>0.216527</td>\n",
       "    </tr>\n",
       "    <tr>\n",
       "      <th>2022-01-06</th>\n",
       "      <td>-1.024692</td>\n",
       "      <td>-1.042177</td>\n",
       "      <td>0.551051</td>\n",
       "      <td>-0.594221</td>\n",
       "    </tr>\n",
       "    <tr>\n",
       "      <th>2022-01-07</th>\n",
       "      <td>-2.105584</td>\n",
       "      <td>1.111062</td>\n",
       "      <td>0.289942</td>\n",
       "      <td>0.302018</td>\n",
       "    </tr>\n",
       "    <tr>\n",
       "      <th>2022-01-08</th>\n",
       "      <td>0.393758</td>\n",
       "      <td>0.493581</td>\n",
       "      <td>-2.213503</td>\n",
       "      <td>1.237396</td>\n",
       "    </tr>\n",
       "    <tr>\n",
       "      <th>2022-01-09</th>\n",
       "      <td>-0.571681</td>\n",
       "      <td>-0.736928</td>\n",
       "      <td>-0.166763</td>\n",
       "      <td>0.262609</td>\n",
       "    </tr>\n",
       "    <tr>\n",
       "      <th>2022-01-10</th>\n",
       "      <td>-1.009297</td>\n",
       "      <td>1.427627</td>\n",
       "      <td>1.066729</td>\n",
       "      <td>-1.507219</td>\n",
       "    </tr>\n",
       "  </tbody>\n",
       "</table>\n",
       "</div>"
      ],
      "text/plain": [
       "                   A         B         D         C\n",
       "2022-01-01  0.135332 -1.321516 -0.140575  0.671970\n",
       "2022-01-02  0.360503 -0.331225  0.149142 -1.022554\n",
       "2022-01-03  1.062226 -0.310675  0.364203  1.186872\n",
       "2022-01-04  0.841021  0.333299 -0.214869 -0.540444\n",
       "2022-01-05 -0.394903  1.395951 -0.312918  0.216527\n",
       "2022-01-06 -1.024692 -1.042177  0.551051 -0.594221\n",
       "2022-01-07 -2.105584  1.111062  0.289942  0.302018\n",
       "2022-01-08  0.393758  0.493581 -2.213503  1.237396\n",
       "2022-01-09 -0.571681 -0.736928 -0.166763  0.262609\n",
       "2022-01-10 -1.009297  1.427627  1.066729 -1.507219"
      ]
     },
     "execution_count": 35,
     "metadata": {},
     "output_type": "execute_result"
    }
   ],
   "source": [
    "df.iloc[:, 0:4] #this is also column wise filteration or selection."
   ]
  },
  {
   "cell_type": "code",
   "execution_count": 36,
   "metadata": {},
   "outputs": [
    {
     "data": {
      "text/html": [
       "<div>\n",
       "<style scoped>\n",
       "    .dataframe tbody tr th:only-of-type {\n",
       "        vertical-align: middle;\n",
       "    }\n",
       "\n",
       "    .dataframe tbody tr th {\n",
       "        vertical-align: top;\n",
       "    }\n",
       "\n",
       "    .dataframe thead th {\n",
       "        text-align: right;\n",
       "    }\n",
       "</style>\n",
       "<table border=\"1\" class=\"dataframe\">\n",
       "  <thead>\n",
       "    <tr style=\"text-align: right;\">\n",
       "      <th></th>\n",
       "      <th>A</th>\n",
       "      <th>B</th>\n",
       "      <th>D</th>\n",
       "      <th>C</th>\n",
       "    </tr>\n",
       "  </thead>\n",
       "  <tbody>\n",
       "    <tr>\n",
       "      <th>2022-01-03</th>\n",
       "      <td>1.062226</td>\n",
       "      <td>-0.310675</td>\n",
       "      <td>0.364203</td>\n",
       "      <td>1.186872</td>\n",
       "    </tr>\n",
       "  </tbody>\n",
       "</table>\n",
       "</div>"
      ],
      "text/plain": [
       "                   A         B         D         C\n",
       "2022-01-03  1.062226 -0.310675  0.364203  1.186872"
      ]
     },
     "execution_count": 36,
     "metadata": {},
     "output_type": "execute_result"
    }
   ],
   "source": [
    "df[df[\"A\"]> 1] #this will only show us the data of column a which has value more than 1. "
   ]
  },
  {
   "cell_type": "code",
   "execution_count": 37,
   "metadata": {},
   "outputs": [
    {
     "data": {
      "text/html": [
       "<div>\n",
       "<style scoped>\n",
       "    .dataframe tbody tr th:only-of-type {\n",
       "        vertical-align: middle;\n",
       "    }\n",
       "\n",
       "    .dataframe tbody tr th {\n",
       "        vertical-align: top;\n",
       "    }\n",
       "\n",
       "    .dataframe thead th {\n",
       "        text-align: right;\n",
       "    }\n",
       "</style>\n",
       "<table border=\"1\" class=\"dataframe\">\n",
       "  <thead>\n",
       "    <tr style=\"text-align: right;\">\n",
       "      <th></th>\n",
       "      <th>A</th>\n",
       "      <th>B</th>\n",
       "      <th>D</th>\n",
       "      <th>C</th>\n",
       "    </tr>\n",
       "  </thead>\n",
       "  <tbody>\n",
       "    <tr>\n",
       "      <th>2022-01-05</th>\n",
       "      <td>-0.394903</td>\n",
       "      <td>1.395951</td>\n",
       "      <td>-0.312918</td>\n",
       "      <td>0.216527</td>\n",
       "    </tr>\n",
       "    <tr>\n",
       "      <th>2022-01-07</th>\n",
       "      <td>-2.105584</td>\n",
       "      <td>1.111062</td>\n",
       "      <td>0.289942</td>\n",
       "      <td>0.302018</td>\n",
       "    </tr>\n",
       "    <tr>\n",
       "      <th>2022-01-10</th>\n",
       "      <td>-1.009297</td>\n",
       "      <td>1.427627</td>\n",
       "      <td>1.066729</td>\n",
       "      <td>-1.507219</td>\n",
       "    </tr>\n",
       "  </tbody>\n",
       "</table>\n",
       "</div>"
      ],
      "text/plain": [
       "                   A         B         D         C\n",
       "2022-01-05 -0.394903  1.395951 -0.312918  0.216527\n",
       "2022-01-07 -2.105584  1.111062  0.289942  0.302018\n",
       "2022-01-10 -1.009297  1.427627  1.066729 -1.507219"
      ]
     },
     "execution_count": 37,
     "metadata": {},
     "output_type": "execute_result"
    }
   ],
   "source": [
    "df[df[\"B\"]>1] "
   ]
  },
  {
   "cell_type": "code",
   "execution_count": 38,
   "metadata": {},
   "outputs": [
    {
     "data": {
      "text/html": [
       "<div>\n",
       "<style scoped>\n",
       "    .dataframe tbody tr th:only-of-type {\n",
       "        vertical-align: middle;\n",
       "    }\n",
       "\n",
       "    .dataframe tbody tr th {\n",
       "        vertical-align: top;\n",
       "    }\n",
       "\n",
       "    .dataframe thead th {\n",
       "        text-align: right;\n",
       "    }\n",
       "</style>\n",
       "<table border=\"1\" class=\"dataframe\">\n",
       "  <thead>\n",
       "    <tr style=\"text-align: right;\">\n",
       "      <th></th>\n",
       "      <th>A</th>\n",
       "      <th>B</th>\n",
       "      <th>D</th>\n",
       "      <th>C</th>\n",
       "    </tr>\n",
       "  </thead>\n",
       "  <tbody>\n",
       "    <tr>\n",
       "      <th>2022-01-01</th>\n",
       "      <td>NaN</td>\n",
       "      <td>NaN</td>\n",
       "      <td>NaN</td>\n",
       "      <td>NaN</td>\n",
       "    </tr>\n",
       "    <tr>\n",
       "      <th>2022-01-02</th>\n",
       "      <td>NaN</td>\n",
       "      <td>NaN</td>\n",
       "      <td>NaN</td>\n",
       "      <td>NaN</td>\n",
       "    </tr>\n",
       "    <tr>\n",
       "      <th>2022-01-03</th>\n",
       "      <td>1.062226</td>\n",
       "      <td>NaN</td>\n",
       "      <td>NaN</td>\n",
       "      <td>1.186872</td>\n",
       "    </tr>\n",
       "    <tr>\n",
       "      <th>2022-01-04</th>\n",
       "      <td>NaN</td>\n",
       "      <td>NaN</td>\n",
       "      <td>NaN</td>\n",
       "      <td>NaN</td>\n",
       "    </tr>\n",
       "    <tr>\n",
       "      <th>2022-01-05</th>\n",
       "      <td>NaN</td>\n",
       "      <td>1.395951</td>\n",
       "      <td>NaN</td>\n",
       "      <td>NaN</td>\n",
       "    </tr>\n",
       "    <tr>\n",
       "      <th>2022-01-06</th>\n",
       "      <td>NaN</td>\n",
       "      <td>NaN</td>\n",
       "      <td>NaN</td>\n",
       "      <td>NaN</td>\n",
       "    </tr>\n",
       "    <tr>\n",
       "      <th>2022-01-07</th>\n",
       "      <td>NaN</td>\n",
       "      <td>1.111062</td>\n",
       "      <td>NaN</td>\n",
       "      <td>NaN</td>\n",
       "    </tr>\n",
       "    <tr>\n",
       "      <th>2022-01-08</th>\n",
       "      <td>NaN</td>\n",
       "      <td>NaN</td>\n",
       "      <td>NaN</td>\n",
       "      <td>1.237396</td>\n",
       "    </tr>\n",
       "    <tr>\n",
       "      <th>2022-01-09</th>\n",
       "      <td>NaN</td>\n",
       "      <td>NaN</td>\n",
       "      <td>NaN</td>\n",
       "      <td>NaN</td>\n",
       "    </tr>\n",
       "    <tr>\n",
       "      <th>2022-01-10</th>\n",
       "      <td>NaN</td>\n",
       "      <td>1.427627</td>\n",
       "      <td>1.066729</td>\n",
       "      <td>NaN</td>\n",
       "    </tr>\n",
       "  </tbody>\n",
       "</table>\n",
       "</div>"
      ],
      "text/plain": [
       "                   A         B         D         C\n",
       "2022-01-01       NaN       NaN       NaN       NaN\n",
       "2022-01-02       NaN       NaN       NaN       NaN\n",
       "2022-01-03  1.062226       NaN       NaN  1.186872\n",
       "2022-01-04       NaN       NaN       NaN       NaN\n",
       "2022-01-05       NaN  1.395951       NaN       NaN\n",
       "2022-01-06       NaN       NaN       NaN       NaN\n",
       "2022-01-07       NaN  1.111062       NaN       NaN\n",
       "2022-01-08       NaN       NaN       NaN  1.237396\n",
       "2022-01-09       NaN       NaN       NaN       NaN\n",
       "2022-01-10       NaN  1.427627  1.066729       NaN"
      ]
     },
     "execution_count": 38,
     "metadata": {},
     "output_type": "execute_result"
    }
   ],
   "source": [
    "df[df>1] #only positive values will be shown. Negative and less than 1 values will become NaN."
   ]
  },
  {
   "cell_type": "code",
   "execution_count": 39,
   "metadata": {},
   "outputs": [],
   "source": [
    "#Let's add new column in a dataframe.\n",
    "df2=df.copy()"
   ]
  },
  {
   "cell_type": "code",
   "execution_count": 40,
   "metadata": {},
   "outputs": [],
   "source": [
    "df2[\"E\"]=[1, 2, 6, 7, 8, 9, 1, 5, 7, 4 ]  #to add new column we must have equal values like other columns. "
   ]
  },
  {
   "cell_type": "code",
   "execution_count": 41,
   "metadata": {},
   "outputs": [
    {
     "data": {
      "text/plain": [
       "-0.23133162853038441"
      ]
     },
     "execution_count": 41,
     "metadata": {},
     "output_type": "execute_result"
    }
   ],
   "source": [
    "#mean calculation of a column\n",
    "df2=df[\"A\"].mean ()\n",
    "df2\n"
   ]
  },
  {
   "cell_type": "code",
   "execution_count": 42,
   "metadata": {},
   "outputs": [
    {
     "data": {
      "text/plain": [
       "A   -0.231332\n",
       "B    0.101900\n",
       "dtype: float64"
      ]
     },
     "execution_count": 42,
     "metadata": {},
     "output_type": "execute_result"
    }
   ],
   "source": [
    "#mean calculation of multiple columns\n",
    "df2 = df[[\"A\",\"B\"]].mean()\n",
    "df2"
   ]
  },
  {
   "cell_type": "code",
   "execution_count": 43,
   "metadata": {},
   "outputs": [
    {
     "data": {
      "text/plain": [
       "A   -0.231332\n",
       "B    0.101900\n",
       "D   -0.062756\n",
       "C    0.021295\n",
       "dtype: float64"
      ]
     },
     "execution_count": 43,
     "metadata": {},
     "output_type": "execute_result"
    }
   ],
   "source": [
    "# Using DataFrame.mean() to get entire column mean\n",
    "df2=df.mean()\n",
    "df2"
   ]
  },
  {
   "cell_type": "code",
   "execution_count": 44,
   "metadata": {},
   "outputs": [
    {
     "data": {
      "text/plain": [
       "A   -0.231332\n",
       "B    0.101900\n",
       "D   -0.062756\n",
       "C    0.021295\n",
       "dtype: float64"
      ]
     },
     "execution_count": 44,
     "metadata": {},
     "output_type": "execute_result"
    }
   ],
   "source": [
    "# Average of each column using DataFrame.mean()\n",
    "df2 = df.mean(axis=0)\n",
    "df2"
   ]
  },
  {
   "cell_type": "code",
   "execution_count": 45,
   "metadata": {},
   "outputs": [
    {
     "data": {
      "text/plain": [
       "A   -0.231332\n",
       "B    0.101900\n",
       "D   -0.062756\n",
       "C    0.021295\n",
       "dtype: float64"
      ]
     },
     "execution_count": 45,
     "metadata": {},
     "output_type": "execute_result"
    }
   ],
   "source": [
    "# Find the mean including NaN values using DataFrame.mean()\n",
    "df2 = df.mean(axis = 0, skipna = False)\n",
    "df2"
   ]
  },
  {
   "cell_type": "code",
   "execution_count": 46,
   "metadata": {},
   "outputs": [
    {
     "data": {
      "text/plain": [
       "2022-01-01   -0.163697\n",
       "2022-01-02   -0.211033\n",
       "2022-01-03    0.575656\n",
       "2022-01-04    0.104752\n",
       "2022-01-05    0.226164\n",
       "2022-01-06   -0.527510\n",
       "2022-01-07   -0.100640\n",
       "2022-01-08   -0.022192\n",
       "2022-01-09   -0.303191\n",
       "2022-01-10   -0.005540\n",
       "Freq: D, dtype: float64"
      ]
     },
     "execution_count": 46,
     "metadata": {},
     "output_type": "execute_result"
    }
   ],
   "source": [
    "df2=df.mean (axis=1)\n",
    "df2\n",
    "#if we use axis=0, this will show the columns average or means.\n",
    "#if we use axis=1, this will show the rows average or means."
   ]
  },
  {
   "cell_type": "code",
   "execution_count": 47,
   "metadata": {},
   "outputs": [],
   "source": [
    "df[\"averages\"]=[-0.047092, -0.513282, -0.458314, 0.172232, 0.474960, 0.818430, 0.199202, 0.437431, -0.346657, -0.074653]\n",
    "#after finding the means of rows, we can also add means in a new column like this."
   ]
  },
  {
   "cell_type": "code",
   "execution_count": 48,
   "metadata": {},
   "outputs": [],
   "source": [
    "df['mean'] = df.mean(axis=1) # this will directly add mean in a new column. we don't need to add like we did above."
   ]
  },
  {
   "cell_type": "code",
   "execution_count": 49,
   "metadata": {},
   "outputs": [
    {
     "data": {
      "text/html": [
       "<div>\n",
       "<style scoped>\n",
       "    .dataframe tbody tr th:only-of-type {\n",
       "        vertical-align: middle;\n",
       "    }\n",
       "\n",
       "    .dataframe tbody tr th {\n",
       "        vertical-align: top;\n",
       "    }\n",
       "\n",
       "    .dataframe thead th {\n",
       "        text-align: right;\n",
       "    }\n",
       "</style>\n",
       "<table border=\"1\" class=\"dataframe\">\n",
       "  <thead>\n",
       "    <tr style=\"text-align: right;\">\n",
       "      <th></th>\n",
       "      <th>A</th>\n",
       "      <th>B</th>\n",
       "      <th>D</th>\n",
       "      <th>C</th>\n",
       "      <th>averages</th>\n",
       "      <th>mean</th>\n",
       "    </tr>\n",
       "  </thead>\n",
       "  <tbody>\n",
       "    <tr>\n",
       "      <th>2022-01-01</th>\n",
       "      <td>0.135332</td>\n",
       "      <td>-1.321516</td>\n",
       "      <td>-0.140575</td>\n",
       "      <td>0.671970</td>\n",
       "      <td>-0.047092</td>\n",
       "      <td>-0.140376</td>\n",
       "    </tr>\n",
       "    <tr>\n",
       "      <th>2022-01-02</th>\n",
       "      <td>0.360503</td>\n",
       "      <td>-0.331225</td>\n",
       "      <td>0.149142</td>\n",
       "      <td>-1.022554</td>\n",
       "      <td>-0.513282</td>\n",
       "      <td>-0.271483</td>\n",
       "    </tr>\n",
       "    <tr>\n",
       "      <th>2022-01-03</th>\n",
       "      <td>1.062226</td>\n",
       "      <td>-0.310675</td>\n",
       "      <td>0.364203</td>\n",
       "      <td>1.186872</td>\n",
       "      <td>-0.458314</td>\n",
       "      <td>0.368862</td>\n",
       "    </tr>\n",
       "    <tr>\n",
       "      <th>2022-01-04</th>\n",
       "      <td>0.841021</td>\n",
       "      <td>0.333299</td>\n",
       "      <td>-0.214869</td>\n",
       "      <td>-0.540444</td>\n",
       "      <td>0.172232</td>\n",
       "      <td>0.118248</td>\n",
       "    </tr>\n",
       "    <tr>\n",
       "      <th>2022-01-05</th>\n",
       "      <td>-0.394903</td>\n",
       "      <td>1.395951</td>\n",
       "      <td>-0.312918</td>\n",
       "      <td>0.216527</td>\n",
       "      <td>0.474960</td>\n",
       "      <td>0.275923</td>\n",
       "    </tr>\n",
       "    <tr>\n",
       "      <th>2022-01-06</th>\n",
       "      <td>-1.024692</td>\n",
       "      <td>-1.042177</td>\n",
       "      <td>0.551051</td>\n",
       "      <td>-0.594221</td>\n",
       "      <td>0.818430</td>\n",
       "      <td>-0.258322</td>\n",
       "    </tr>\n",
       "    <tr>\n",
       "      <th>2022-01-07</th>\n",
       "      <td>-2.105584</td>\n",
       "      <td>1.111062</td>\n",
       "      <td>0.289942</td>\n",
       "      <td>0.302018</td>\n",
       "      <td>0.199202</td>\n",
       "      <td>-0.040672</td>\n",
       "    </tr>\n",
       "    <tr>\n",
       "      <th>2022-01-08</th>\n",
       "      <td>0.393758</td>\n",
       "      <td>0.493581</td>\n",
       "      <td>-2.213503</td>\n",
       "      <td>1.237396</td>\n",
       "      <td>0.437431</td>\n",
       "      <td>0.069733</td>\n",
       "    </tr>\n",
       "    <tr>\n",
       "      <th>2022-01-09</th>\n",
       "      <td>-0.571681</td>\n",
       "      <td>-0.736928</td>\n",
       "      <td>-0.166763</td>\n",
       "      <td>0.262609</td>\n",
       "      <td>-0.346657</td>\n",
       "      <td>-0.311884</td>\n",
       "    </tr>\n",
       "    <tr>\n",
       "      <th>2022-01-10</th>\n",
       "      <td>-1.009297</td>\n",
       "      <td>1.427627</td>\n",
       "      <td>1.066729</td>\n",
       "      <td>-1.507219</td>\n",
       "      <td>-0.074653</td>\n",
       "      <td>-0.019363</td>\n",
       "    </tr>\n",
       "  </tbody>\n",
       "</table>\n",
       "</div>"
      ],
      "text/plain": [
       "                   A         B         D         C  averages      mean\n",
       "2022-01-01  0.135332 -1.321516 -0.140575  0.671970 -0.047092 -0.140376\n",
       "2022-01-02  0.360503 -0.331225  0.149142 -1.022554 -0.513282 -0.271483\n",
       "2022-01-03  1.062226 -0.310675  0.364203  1.186872 -0.458314  0.368862\n",
       "2022-01-04  0.841021  0.333299 -0.214869 -0.540444  0.172232  0.118248\n",
       "2022-01-05 -0.394903  1.395951 -0.312918  0.216527  0.474960  0.275923\n",
       "2022-01-06 -1.024692 -1.042177  0.551051 -0.594221  0.818430 -0.258322\n",
       "2022-01-07 -2.105584  1.111062  0.289942  0.302018  0.199202 -0.040672\n",
       "2022-01-08  0.393758  0.493581 -2.213503  1.237396  0.437431  0.069733\n",
       "2022-01-09 -0.571681 -0.736928 -0.166763  0.262609 -0.346657 -0.311884\n",
       "2022-01-10 -1.009297  1.427627  1.066729 -1.507219 -0.074653 -0.019363"
      ]
     },
     "execution_count": 49,
     "metadata": {},
     "output_type": "execute_result"
    }
   ],
   "source": [
    "df"
   ]
  },
  {
   "cell_type": "code",
   "execution_count": 50,
   "metadata": {},
   "outputs": [
    {
     "data": {
      "text/html": [
       "<div>\n",
       "<style scoped>\n",
       "    .dataframe tbody tr th:only-of-type {\n",
       "        vertical-align: middle;\n",
       "    }\n",
       "\n",
       "    .dataframe tbody tr th {\n",
       "        vertical-align: top;\n",
       "    }\n",
       "\n",
       "    .dataframe thead th {\n",
       "        text-align: right;\n",
       "    }\n",
       "</style>\n",
       "<table border=\"1\" class=\"dataframe\">\n",
       "  <thead>\n",
       "    <tr style=\"text-align: right;\">\n",
       "      <th></th>\n",
       "      <th>A</th>\n",
       "      <th>B</th>\n",
       "      <th>D</th>\n",
       "      <th>C</th>\n",
       "      <th>averages</th>\n",
       "      <th>mean</th>\n",
       "      <th>median</th>\n",
       "    </tr>\n",
       "  </thead>\n",
       "  <tbody>\n",
       "    <tr>\n",
       "      <th>2022-01-01</th>\n",
       "      <td>0.135332</td>\n",
       "      <td>-1.321516</td>\n",
       "      <td>-0.140575</td>\n",
       "      <td>0.671970</td>\n",
       "      <td>-0.047092</td>\n",
       "      <td>-0.140376</td>\n",
       "      <td>-0.093734</td>\n",
       "    </tr>\n",
       "    <tr>\n",
       "      <th>2022-01-02</th>\n",
       "      <td>0.360503</td>\n",
       "      <td>-0.331225</td>\n",
       "      <td>0.149142</td>\n",
       "      <td>-1.022554</td>\n",
       "      <td>-0.513282</td>\n",
       "      <td>-0.271483</td>\n",
       "      <td>-0.301354</td>\n",
       "    </tr>\n",
       "    <tr>\n",
       "      <th>2022-01-03</th>\n",
       "      <td>1.062226</td>\n",
       "      <td>-0.310675</td>\n",
       "      <td>0.364203</td>\n",
       "      <td>1.186872</td>\n",
       "      <td>-0.458314</td>\n",
       "      <td>0.368862</td>\n",
       "      <td>0.366533</td>\n",
       "    </tr>\n",
       "    <tr>\n",
       "      <th>2022-01-04</th>\n",
       "      <td>0.841021</td>\n",
       "      <td>0.333299</td>\n",
       "      <td>-0.214869</td>\n",
       "      <td>-0.540444</td>\n",
       "      <td>0.172232</td>\n",
       "      <td>0.118248</td>\n",
       "      <td>0.145240</td>\n",
       "    </tr>\n",
       "    <tr>\n",
       "      <th>2022-01-05</th>\n",
       "      <td>-0.394903</td>\n",
       "      <td>1.395951</td>\n",
       "      <td>-0.312918</td>\n",
       "      <td>0.216527</td>\n",
       "      <td>0.474960</td>\n",
       "      <td>0.275923</td>\n",
       "      <td>0.246225</td>\n",
       "    </tr>\n",
       "    <tr>\n",
       "      <th>2022-01-06</th>\n",
       "      <td>-1.024692</td>\n",
       "      <td>-1.042177</td>\n",
       "      <td>0.551051</td>\n",
       "      <td>-0.594221</td>\n",
       "      <td>0.818430</td>\n",
       "      <td>-0.258322</td>\n",
       "      <td>-0.426271</td>\n",
       "    </tr>\n",
       "    <tr>\n",
       "      <th>2022-01-07</th>\n",
       "      <td>-2.105584</td>\n",
       "      <td>1.111062</td>\n",
       "      <td>0.289942</td>\n",
       "      <td>0.302018</td>\n",
       "      <td>0.199202</td>\n",
       "      <td>-0.040672</td>\n",
       "      <td>0.244572</td>\n",
       "    </tr>\n",
       "    <tr>\n",
       "      <th>2022-01-08</th>\n",
       "      <td>0.393758</td>\n",
       "      <td>0.493581</td>\n",
       "      <td>-2.213503</td>\n",
       "      <td>1.237396</td>\n",
       "      <td>0.437431</td>\n",
       "      <td>0.069733</td>\n",
       "      <td>0.415595</td>\n",
       "    </tr>\n",
       "    <tr>\n",
       "      <th>2022-01-09</th>\n",
       "      <td>-0.571681</td>\n",
       "      <td>-0.736928</td>\n",
       "      <td>-0.166763</td>\n",
       "      <td>0.262609</td>\n",
       "      <td>-0.346657</td>\n",
       "      <td>-0.311884</td>\n",
       "      <td>-0.329270</td>\n",
       "    </tr>\n",
       "    <tr>\n",
       "      <th>2022-01-10</th>\n",
       "      <td>-1.009297</td>\n",
       "      <td>1.427627</td>\n",
       "      <td>1.066729</td>\n",
       "      <td>-1.507219</td>\n",
       "      <td>-0.074653</td>\n",
       "      <td>-0.019363</td>\n",
       "      <td>-0.047008</td>\n",
       "    </tr>\n",
       "  </tbody>\n",
       "</table>\n",
       "</div>"
      ],
      "text/plain": [
       "                   A         B         D         C  averages      mean  \\\n",
       "2022-01-01  0.135332 -1.321516 -0.140575  0.671970 -0.047092 -0.140376   \n",
       "2022-01-02  0.360503 -0.331225  0.149142 -1.022554 -0.513282 -0.271483   \n",
       "2022-01-03  1.062226 -0.310675  0.364203  1.186872 -0.458314  0.368862   \n",
       "2022-01-04  0.841021  0.333299 -0.214869 -0.540444  0.172232  0.118248   \n",
       "2022-01-05 -0.394903  1.395951 -0.312918  0.216527  0.474960  0.275923   \n",
       "2022-01-06 -1.024692 -1.042177  0.551051 -0.594221  0.818430 -0.258322   \n",
       "2022-01-07 -2.105584  1.111062  0.289942  0.302018  0.199202 -0.040672   \n",
       "2022-01-08  0.393758  0.493581 -2.213503  1.237396  0.437431  0.069733   \n",
       "2022-01-09 -0.571681 -0.736928 -0.166763  0.262609 -0.346657 -0.311884   \n",
       "2022-01-10 -1.009297  1.427627  1.066729 -1.507219 -0.074653 -0.019363   \n",
       "\n",
       "              median  \n",
       "2022-01-01 -0.093734  \n",
       "2022-01-02 -0.301354  \n",
       "2022-01-03  0.366533  \n",
       "2022-01-04  0.145240  \n",
       "2022-01-05  0.246225  \n",
       "2022-01-06 -0.426271  \n",
       "2022-01-07  0.244572  \n",
       "2022-01-08  0.415595  \n",
       "2022-01-09 -0.329270  \n",
       "2022-01-10 -0.047008  "
      ]
     },
     "execution_count": 50,
     "metadata": {},
     "output_type": "execute_result"
    }
   ],
   "source": [
    "df[\"median\"]=df.median (axis=1)\n",
    "df"
   ]
  },
  {
   "cell_type": "code",
   "execution_count": 51,
   "metadata": {},
   "outputs": [
    {
     "data": {
      "text/html": [
       "<div>\n",
       "<style scoped>\n",
       "    .dataframe tbody tr th:only-of-type {\n",
       "        vertical-align: middle;\n",
       "    }\n",
       "\n",
       "    .dataframe tbody tr th {\n",
       "        vertical-align: top;\n",
       "    }\n",
       "\n",
       "    .dataframe thead th {\n",
       "        text-align: right;\n",
       "    }\n",
       "</style>\n",
       "<table border=\"1\" class=\"dataframe\">\n",
       "  <thead>\n",
       "    <tr style=\"text-align: right;\">\n",
       "      <th></th>\n",
       "      <th>averages</th>\n",
       "      <th>median</th>\n",
       "    </tr>\n",
       "  </thead>\n",
       "  <tbody>\n",
       "    <tr>\n",
       "      <th>2022-01-01</th>\n",
       "      <td>-0.047092</td>\n",
       "      <td>-0.093734</td>\n",
       "    </tr>\n",
       "    <tr>\n",
       "      <th>2022-01-02</th>\n",
       "      <td>-0.513282</td>\n",
       "      <td>-0.301354</td>\n",
       "    </tr>\n",
       "    <tr>\n",
       "      <th>2022-01-03</th>\n",
       "      <td>-0.458314</td>\n",
       "      <td>0.366533</td>\n",
       "    </tr>\n",
       "    <tr>\n",
       "      <th>2022-01-04</th>\n",
       "      <td>0.172232</td>\n",
       "      <td>0.145240</td>\n",
       "    </tr>\n",
       "    <tr>\n",
       "      <th>2022-01-05</th>\n",
       "      <td>0.474960</td>\n",
       "      <td>0.246225</td>\n",
       "    </tr>\n",
       "    <tr>\n",
       "      <th>2022-01-06</th>\n",
       "      <td>0.818430</td>\n",
       "      <td>-0.426271</td>\n",
       "    </tr>\n",
       "    <tr>\n",
       "      <th>2022-01-07</th>\n",
       "      <td>0.199202</td>\n",
       "      <td>0.244572</td>\n",
       "    </tr>\n",
       "    <tr>\n",
       "      <th>2022-01-08</th>\n",
       "      <td>0.437431</td>\n",
       "      <td>0.415595</td>\n",
       "    </tr>\n",
       "    <tr>\n",
       "      <th>2022-01-09</th>\n",
       "      <td>-0.346657</td>\n",
       "      <td>-0.329270</td>\n",
       "    </tr>\n",
       "    <tr>\n",
       "      <th>2022-01-10</th>\n",
       "      <td>-0.074653</td>\n",
       "      <td>-0.047008</td>\n",
       "    </tr>\n",
       "  </tbody>\n",
       "</table>\n",
       "</div>"
      ],
      "text/plain": [
       "            averages    median\n",
       "2022-01-01 -0.047092 -0.093734\n",
       "2022-01-02 -0.513282 -0.301354\n",
       "2022-01-03 -0.458314  0.366533\n",
       "2022-01-04  0.172232  0.145240\n",
       "2022-01-05  0.474960  0.246225\n",
       "2022-01-06  0.818430 -0.426271\n",
       "2022-01-07  0.199202  0.244572\n",
       "2022-01-08  0.437431  0.415595\n",
       "2022-01-09 -0.346657 -0.329270\n",
       "2022-01-10 -0.074653 -0.047008"
      ]
     },
     "execution_count": 51,
     "metadata": {},
     "output_type": "execute_result"
    }
   ],
   "source": [
    "useful=df.loc[:, [\"averages\", \"median\"]] #we can get most useful columns like this and use them.\n",
    "useful"
   ]
  },
  {
   "cell_type": "code",
   "execution_count": 66,
   "metadata": {},
   "outputs": [],
   "source": [
    "#finding mode\n",
    "md=pd.Series([1,4,5,6,7,8,4,4,10])"
   ]
  },
  {
   "cell_type": "code",
   "execution_count": 69,
   "metadata": {},
   "outputs": [
    {
     "data": {
      "text/plain": [
       "0    4\n",
       "dtype: int64"
      ]
     },
     "execution_count": 69,
     "metadata": {},
     "output_type": "execute_result"
    }
   ],
   "source": [
    "md.mode ()"
   ]
  },
  {
   "cell_type": "code",
   "execution_count": null,
   "metadata": {},
   "outputs": [],
   "source": []
  }
 ],
 "metadata": {
  "kernelspec": {
   "display_name": "Python 3.9.12 ('base')",
   "language": "python",
   "name": "python3"
  },
  "language_info": {
   "codemirror_mode": {
    "name": "ipython",
    "version": 3
   },
   "file_extension": ".py",
   "mimetype": "text/x-python",
   "name": "python",
   "nbconvert_exporter": "python",
   "pygments_lexer": "ipython3",
   "version": "3.9.12"
  },
  "orig_nbformat": 4,
  "vscode": {
   "interpreter": {
    "hash": "6f5583cf1d9466b5c27e75c89cc6b383bed5736d6b16c51c8074d8690011a952"
   }
  }
 },
 "nbformat": 4,
 "nbformat_minor": 2
}
